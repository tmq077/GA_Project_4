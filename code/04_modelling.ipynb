{
 "cells": [
  {
   "cell_type": "markdown",
   "id": "0965ae00",
   "metadata": {},
   "source": [
    "<img src=\"http://imgur.com/1ZcRyrc.png\" style=\"float: left; margin: 20px; height: 55px\">\n",
    "\n",
    "# Project 4: Snack-O-Meter: a tool to inform consumers on consumption of biscuits"
   ]
  },
  {
   "cell_type": "markdown",
   "id": "07a8925f",
   "metadata": {},
   "source": [
    "# Content Page"
   ]
  },
  {
   "cell_type": "markdown",
   "id": "850fbe18",
   "metadata": {},
   "source": [
    "1. [Webscraping for data](01_webscraping.ipynb)\n",
    "2. [Data cleaning](02_cleaning.ipynb)\n",
    "3. [EDA](03_eda.ipynb)\n",
    "4. [Data Modelling](04_modelling.ipynb)"
   ]
  },
  {
   "cell_type": "markdown",
   "id": "222810fa",
   "metadata": {},
   "source": [
    "### Modelling"
   ]
  },
  {
   "cell_type": "code",
   "execution_count": 1,
   "id": "c9b80a20",
   "metadata": {},
   "outputs": [],
   "source": [
    "import pandas as pd\n",
    "import seaborn as sns\n",
    "import matplotlib.pyplot as plt\n",
    "import numpy as np\n",
    "\n",
    "from sklearn.model_selection import train_test_split,cross_val_score\n",
    "from sklearn.metrics import classification_report, accuracy_score\n",
    "from sklearn.pipeline import Pipeline\n",
    "from imblearn.over_sampling import SMOTE\n",
    "\n",
    "from sklearn.linear_model import LogisticRegression\n",
    "from sklearn.neighbors import KNeighborsClassifier\n",
    "from sklearn.ensemble import RandomForestClassifier\n",
    "from sklearn.ensemble import BaggingClassifier\n",
    "from sklearn.tree import DecisionTreeClassifier\n",
    "\n",
    "import pickle\n",
    "\n",
    "import time"
   ]
  },
  {
   "cell_type": "code",
   "execution_count": 2,
   "id": "b466295c",
   "metadata": {},
   "outputs": [],
   "source": [
    "df = pd.read_csv(\"../data/final_df.csv\")"
   ]
  },
  {
   "cell_type": "code",
   "execution_count": 3,
   "id": "0b3232ed",
   "metadata": {},
   "outputs": [
    {
     "data": {
      "text/html": [
       "<div>\n",
       "<style scoped>\n",
       "    .dataframe tbody tr th:only-of-type {\n",
       "        vertical-align: middle;\n",
       "    }\n",
       "\n",
       "    .dataframe tbody tr th {\n",
       "        vertical-align: top;\n",
       "    }\n",
       "\n",
       "    .dataframe thead th {\n",
       "        text-align: right;\n",
       "    }\n",
       "</style>\n",
       "<table border=\"1\" class=\"dataframe\">\n",
       "  <thead>\n",
       "    <tr style=\"text-align: right;\">\n",
       "      <th></th>\n",
       "      <th>type</th>\n",
       "      <th>product</th>\n",
       "      <th>per_serving_g</th>\n",
       "      <th>total_fat_g</th>\n",
       "      <th>sugars_g</th>\n",
       "      <th>sodium_g</th>\n",
       "      <th>total_fat_g_per_gram_of_serving</th>\n",
       "      <th>sugars_g_per_gram_of_serving</th>\n",
       "      <th>sodium_g_per_gram_of_serving</th>\n",
       "    </tr>\n",
       "  </thead>\n",
       "  <tbody>\n",
       "    <tr>\n",
       "      <th>0</th>\n",
       "      <td>cookie</td>\n",
       "      <td>Beryl's Chocolate Orange Cashew Nuts Cookies</td>\n",
       "      <td>25.0</td>\n",
       "      <td>4.6</td>\n",
       "      <td>7.6</td>\n",
       "      <td>0.0</td>\n",
       "      <td>0.184</td>\n",
       "      <td>0.304</td>\n",
       "      <td>0.0</td>\n",
       "    </tr>\n",
       "    <tr>\n",
       "      <th>1</th>\n",
       "      <td>cookie</td>\n",
       "      <td>Beryl's Coconut Sable with Macadamia Nuts</td>\n",
       "      <td>25.0</td>\n",
       "      <td>9.9</td>\n",
       "      <td>5.1</td>\n",
       "      <td>0.0</td>\n",
       "      <td>0.396</td>\n",
       "      <td>0.204</td>\n",
       "      <td>0.0</td>\n",
       "    </tr>\n",
       "    <tr>\n",
       "      <th>2</th>\n",
       "      <td>cookie</td>\n",
       "      <td>Beryl's Cookies Chocolate Sable</td>\n",
       "      <td>25.0</td>\n",
       "      <td>7.2</td>\n",
       "      <td>9.2</td>\n",
       "      <td>0.0</td>\n",
       "      <td>0.288</td>\n",
       "      <td>0.368</td>\n",
       "      <td>0.0</td>\n",
       "    </tr>\n",
       "    <tr>\n",
       "      <th>3</th>\n",
       "      <td>cookie</td>\n",
       "      <td>Beryl's Strawberry Sable</td>\n",
       "      <td>25.0</td>\n",
       "      <td>9.4</td>\n",
       "      <td>4.8</td>\n",
       "      <td>0.0</td>\n",
       "      <td>0.376</td>\n",
       "      <td>0.192</td>\n",
       "      <td>0.0</td>\n",
       "    </tr>\n",
       "    <tr>\n",
       "      <th>4</th>\n",
       "      <td>cookie</td>\n",
       "      <td>Beryl's Cookies Exquisite Selection (Tin)</td>\n",
       "      <td>25.0</td>\n",
       "      <td>4.0</td>\n",
       "      <td>5.0</td>\n",
       "      <td>0.0</td>\n",
       "      <td>0.160</td>\n",
       "      <td>0.200</td>\n",
       "      <td>0.0</td>\n",
       "    </tr>\n",
       "  </tbody>\n",
       "</table>\n",
       "</div>"
      ],
      "text/plain": [
       "     type                                       product  per_serving_g  \\\n",
       "0  cookie  Beryl's Chocolate Orange Cashew Nuts Cookies           25.0   \n",
       "1  cookie     Beryl's Coconut Sable with Macadamia Nuts           25.0   \n",
       "2  cookie               Beryl's Cookies Chocolate Sable           25.0   \n",
       "3  cookie                      Beryl's Strawberry Sable           25.0   \n",
       "4  cookie     Beryl's Cookies Exquisite Selection (Tin)           25.0   \n",
       "\n",
       "   total_fat_g  sugars_g  sodium_g  total_fat_g_per_gram_of_serving  \\\n",
       "0          4.6       7.6       0.0                            0.184   \n",
       "1          9.9       5.1       0.0                            0.396   \n",
       "2          7.2       9.2       0.0                            0.288   \n",
       "3          9.4       4.8       0.0                            0.376   \n",
       "4          4.0       5.0       0.0                            0.160   \n",
       "\n",
       "   sugars_g_per_gram_of_serving  sodium_g_per_gram_of_serving  \n",
       "0                         0.304                           0.0  \n",
       "1                         0.204                           0.0  \n",
       "2                         0.368                           0.0  \n",
       "3                         0.192                           0.0  \n",
       "4                         0.200                           0.0  "
      ]
     },
     "execution_count": 3,
     "metadata": {},
     "output_type": "execute_result"
    }
   ],
   "source": [
    "df.head()"
   ]
  },
  {
   "cell_type": "code",
   "execution_count": 4,
   "id": "0eb5d5ef",
   "metadata": {},
   "outputs": [
    {
     "data": {
      "text/html": [
       "<div>\n",
       "<style scoped>\n",
       "    .dataframe tbody tr th:only-of-type {\n",
       "        vertical-align: middle;\n",
       "    }\n",
       "\n",
       "    .dataframe tbody tr th {\n",
       "        vertical-align: top;\n",
       "    }\n",
       "\n",
       "    .dataframe thead th {\n",
       "        text-align: right;\n",
       "    }\n",
       "</style>\n",
       "<table border=\"1\" class=\"dataframe\">\n",
       "  <thead>\n",
       "    <tr style=\"text-align: right;\">\n",
       "      <th></th>\n",
       "      <th>total_fat_g_per_gram_of_serving</th>\n",
       "      <th>sugars_g_per_gram_of_serving</th>\n",
       "      <th>sodium_g_per_gram_of_serving</th>\n",
       "    </tr>\n",
       "  </thead>\n",
       "  <tbody>\n",
       "    <tr>\n",
       "      <th>count</th>\n",
       "      <td>88.000000</td>\n",
       "      <td>88.000000</td>\n",
       "      <td>88.000000</td>\n",
       "    </tr>\n",
       "    <tr>\n",
       "      <th>mean</th>\n",
       "      <td>0.235590</td>\n",
       "      <td>0.230701</td>\n",
       "      <td>0.003191</td>\n",
       "    </tr>\n",
       "    <tr>\n",
       "      <th>std</th>\n",
       "      <td>0.066612</td>\n",
       "      <td>0.121566</td>\n",
       "      <td>0.001977</td>\n",
       "    </tr>\n",
       "    <tr>\n",
       "      <th>min</th>\n",
       "      <td>0.041667</td>\n",
       "      <td>0.000000</td>\n",
       "      <td>0.000000</td>\n",
       "    </tr>\n",
       "    <tr>\n",
       "      <th>25%</th>\n",
       "      <td>0.200000</td>\n",
       "      <td>0.147250</td>\n",
       "      <td>0.001862</td>\n",
       "    </tr>\n",
       "    <tr>\n",
       "      <th>50%</th>\n",
       "      <td>0.240588</td>\n",
       "      <td>0.252389</td>\n",
       "      <td>0.003225</td>\n",
       "    </tr>\n",
       "    <tr>\n",
       "      <th>75%</th>\n",
       "      <td>0.269423</td>\n",
       "      <td>0.325353</td>\n",
       "      <td>0.004465</td>\n",
       "    </tr>\n",
       "    <tr>\n",
       "      <th>max</th>\n",
       "      <td>0.405000</td>\n",
       "      <td>0.510000</td>\n",
       "      <td>0.008269</td>\n",
       "    </tr>\n",
       "  </tbody>\n",
       "</table>\n",
       "</div>"
      ],
      "text/plain": [
       "       total_fat_g_per_gram_of_serving  sugars_g_per_gram_of_serving  \\\n",
       "count                        88.000000                     88.000000   \n",
       "mean                          0.235590                      0.230701   \n",
       "std                           0.066612                      0.121566   \n",
       "min                           0.041667                      0.000000   \n",
       "25%                           0.200000                      0.147250   \n",
       "50%                           0.240588                      0.252389   \n",
       "75%                           0.269423                      0.325353   \n",
       "max                           0.405000                      0.510000   \n",
       "\n",
       "       sodium_g_per_gram_of_serving  \n",
       "count                     88.000000  \n",
       "mean                       0.003191  \n",
       "std                        0.001977  \n",
       "min                        0.000000  \n",
       "25%                        0.001862  \n",
       "50%                        0.003225  \n",
       "75%                        0.004465  \n",
       "max                        0.008269  "
      ]
     },
     "execution_count": 4,
     "metadata": {},
     "output_type": "execute_result"
    }
   ],
   "source": [
    "df[['total_fat_g_per_gram_of_serving','sugars_g_per_gram_of_serving','sodium_g_per_gram_of_serving']].describe()"
   ]
  },
  {
   "cell_type": "markdown",
   "id": "d277d19e",
   "metadata": {},
   "source": [
    "Based on the nutrient guidelines from HPB which can be found [here](https://www.hpb.gov.sg/docs/default-source/newsroom/hcs-nutrient-guidelines-revised-april-2020v2.pdf), there are some references on the guidelines for fat, sugar and sodium content for snacks. \n",
    "\n",
    "![image info](../images/HPB_guidelines.png)\n",
    "![image info](../images/HPB_guidelines_1.png)\n",
    "\n",
    "Comparing it with the descriptive statistics of the key nutrients of the data we have, we can see that at 50th percentile, fat is 0.245588g/g of serving, sugar is 0.2g/g of serving, sodium is 0.002806g/g of serving. \n",
    "\n",
    "The figures for fat and sugar are close to HPB's guidelines and 2024's target (i.e., 0.25 g/g of serving for fat and target of 0.21g/g of serving for sugar in 2024). On the other hand, sodium has a higher threshold based on HPB's guidelines (i.e., 0.0042 g/g of serving) compared to the 50th percentile of our data (i.e., 0.002806 g/g of serving).\n",
    "\n",
    "\n",
    "We will refer to the recommendations from HPB for fat and sugar content, and refer to the 50th percentile value of sodium from our data to determine if the snack is healthy or not. "
   ]
  },
  {
   "cell_type": "code",
   "execution_count": 5,
   "id": "0c3619b2",
   "metadata": {},
   "outputs": [],
   "source": [
    "# Based on the above information, we create a function to help us determine the healthiness of the snacks.\n",
    "def classify_snack(dataframe):\n",
    "    condition = (\n",
    "        (dataframe['total_fat_g_per_gram_of_serving'] > 0.25) | \n",
    "        ((dataframe['sugars_g_per_gram_of_serving'] > 0.21) &\n",
    "        (dataframe['sodium_g_per_gram_of_serving'] > 0.002806))\n",
    "    )\n",
    "    dataframe['class'] = 1  # 1 means healthy, assign all as healthy first\n",
    "    dataframe.loc[condition, 'class'] = 0  # 0 means unhealthy\n",
    "\n",
    "# Call the function to classify snacks\n",
    "classify_snack(df)"
   ]
  },
  {
   "cell_type": "code",
   "execution_count": 6,
   "id": "1c725f4a",
   "metadata": {},
   "outputs": [
    {
     "data": {
      "text/plain": [
       "class\n",
       "0    52\n",
       "1    36\n",
       "Name: class, dtype: int64"
      ]
     },
     "execution_count": 6,
     "metadata": {},
     "output_type": "execute_result"
    }
   ],
   "source": [
    "df.groupby(\"class\")['class'].count()"
   ]
  },
  {
   "cell_type": "markdown",
   "id": "fb49f73e",
   "metadata": {},
   "source": [
    "Based on the count of healthy and unhealthy snacks, we have an imbalanced class and will need to apply techniques to upsample the smaller class 0. "
   ]
  },
  {
   "cell_type": "code",
   "execution_count": 7,
   "id": "4a210c11",
   "metadata": {},
   "outputs": [
    {
     "data": {
      "text/html": [
       "<div>\n",
       "<style scoped>\n",
       "    .dataframe tbody tr th:only-of-type {\n",
       "        vertical-align: middle;\n",
       "    }\n",
       "\n",
       "    .dataframe tbody tr th {\n",
       "        vertical-align: top;\n",
       "    }\n",
       "\n",
       "    .dataframe thead th {\n",
       "        text-align: right;\n",
       "    }\n",
       "</style>\n",
       "<table border=\"1\" class=\"dataframe\">\n",
       "  <thead>\n",
       "    <tr style=\"text-align: right;\">\n",
       "      <th></th>\n",
       "      <th>type</th>\n",
       "      <th>product</th>\n",
       "      <th>per_serving_g</th>\n",
       "      <th>total_fat_g</th>\n",
       "      <th>sugars_g</th>\n",
       "      <th>sodium_g</th>\n",
       "      <th>total_fat_g_per_gram_of_serving</th>\n",
       "      <th>sugars_g_per_gram_of_serving</th>\n",
       "      <th>sodium_g_per_gram_of_serving</th>\n",
       "      <th>class</th>\n",
       "    </tr>\n",
       "  </thead>\n",
       "  <tbody>\n",
       "    <tr>\n",
       "      <th>0</th>\n",
       "      <td>cookie</td>\n",
       "      <td>Beryl's Chocolate Orange Cashew Nuts Cookies</td>\n",
       "      <td>25.0</td>\n",
       "      <td>4.6</td>\n",
       "      <td>7.6</td>\n",
       "      <td>0.0</td>\n",
       "      <td>0.184</td>\n",
       "      <td>0.304</td>\n",
       "      <td>0.0</td>\n",
       "      <td>1</td>\n",
       "    </tr>\n",
       "    <tr>\n",
       "      <th>1</th>\n",
       "      <td>cookie</td>\n",
       "      <td>Beryl's Coconut Sable with Macadamia Nuts</td>\n",
       "      <td>25.0</td>\n",
       "      <td>9.9</td>\n",
       "      <td>5.1</td>\n",
       "      <td>0.0</td>\n",
       "      <td>0.396</td>\n",
       "      <td>0.204</td>\n",
       "      <td>0.0</td>\n",
       "      <td>0</td>\n",
       "    </tr>\n",
       "    <tr>\n",
       "      <th>2</th>\n",
       "      <td>cookie</td>\n",
       "      <td>Beryl's Cookies Chocolate Sable</td>\n",
       "      <td>25.0</td>\n",
       "      <td>7.2</td>\n",
       "      <td>9.2</td>\n",
       "      <td>0.0</td>\n",
       "      <td>0.288</td>\n",
       "      <td>0.368</td>\n",
       "      <td>0.0</td>\n",
       "      <td>0</td>\n",
       "    </tr>\n",
       "    <tr>\n",
       "      <th>3</th>\n",
       "      <td>cookie</td>\n",
       "      <td>Beryl's Strawberry Sable</td>\n",
       "      <td>25.0</td>\n",
       "      <td>9.4</td>\n",
       "      <td>4.8</td>\n",
       "      <td>0.0</td>\n",
       "      <td>0.376</td>\n",
       "      <td>0.192</td>\n",
       "      <td>0.0</td>\n",
       "      <td>0</td>\n",
       "    </tr>\n",
       "    <tr>\n",
       "      <th>4</th>\n",
       "      <td>cookie</td>\n",
       "      <td>Beryl's Cookies Exquisite Selection (Tin)</td>\n",
       "      <td>25.0</td>\n",
       "      <td>4.0</td>\n",
       "      <td>5.0</td>\n",
       "      <td>0.0</td>\n",
       "      <td>0.160</td>\n",
       "      <td>0.200</td>\n",
       "      <td>0.0</td>\n",
       "      <td>1</td>\n",
       "    </tr>\n",
       "  </tbody>\n",
       "</table>\n",
       "</div>"
      ],
      "text/plain": [
       "     type                                       product  per_serving_g  \\\n",
       "0  cookie  Beryl's Chocolate Orange Cashew Nuts Cookies           25.0   \n",
       "1  cookie     Beryl's Coconut Sable with Macadamia Nuts           25.0   \n",
       "2  cookie               Beryl's Cookies Chocolate Sable           25.0   \n",
       "3  cookie                      Beryl's Strawberry Sable           25.0   \n",
       "4  cookie     Beryl's Cookies Exquisite Selection (Tin)           25.0   \n",
       "\n",
       "   total_fat_g  sugars_g  sodium_g  total_fat_g_per_gram_of_serving  \\\n",
       "0          4.6       7.6       0.0                            0.184   \n",
       "1          9.9       5.1       0.0                            0.396   \n",
       "2          7.2       9.2       0.0                            0.288   \n",
       "3          9.4       4.8       0.0                            0.376   \n",
       "4          4.0       5.0       0.0                            0.160   \n",
       "\n",
       "   sugars_g_per_gram_of_serving  sodium_g_per_gram_of_serving  class  \n",
       "0                         0.304                           0.0      1  \n",
       "1                         0.204                           0.0      0  \n",
       "2                         0.368                           0.0      0  \n",
       "3                         0.192                           0.0      0  \n",
       "4                         0.200                           0.0      1  "
      ]
     },
     "execution_count": 7,
     "metadata": {},
     "output_type": "execute_result"
    }
   ],
   "source": [
    "df.head()"
   ]
  },
  {
   "cell_type": "code",
   "execution_count": 8,
   "id": "911ce7ac",
   "metadata": {},
   "outputs": [],
   "source": [
    "# We will use the following columns to build the classifier model\n",
    "new_df = df[['total_fat_g_per_gram_of_serving','sugars_g_per_gram_of_serving','sodium_g_per_gram_of_serving','class']]"
   ]
  },
  {
   "cell_type": "code",
   "execution_count": 9,
   "id": "9ace4884",
   "metadata": {},
   "outputs": [
    {
     "data": {
      "text/html": [
       "<div>\n",
       "<style scoped>\n",
       "    .dataframe tbody tr th:only-of-type {\n",
       "        vertical-align: middle;\n",
       "    }\n",
       "\n",
       "    .dataframe tbody tr th {\n",
       "        vertical-align: top;\n",
       "    }\n",
       "\n",
       "    .dataframe thead th {\n",
       "        text-align: right;\n",
       "    }\n",
       "</style>\n",
       "<table border=\"1\" class=\"dataframe\">\n",
       "  <thead>\n",
       "    <tr style=\"text-align: right;\">\n",
       "      <th></th>\n",
       "      <th>total_fat_g_per_gram_of_serving</th>\n",
       "      <th>sugars_g_per_gram_of_serving</th>\n",
       "      <th>sodium_g_per_gram_of_serving</th>\n",
       "      <th>class</th>\n",
       "    </tr>\n",
       "  </thead>\n",
       "  <tbody>\n",
       "    <tr>\n",
       "      <th>40</th>\n",
       "      <td>0.230769</td>\n",
       "      <td>0.192308</td>\n",
       "      <td>0.004038</td>\n",
       "      <td>1</td>\n",
       "    </tr>\n",
       "    <tr>\n",
       "      <th>47</th>\n",
       "      <td>0.219444</td>\n",
       "      <td>0.333333</td>\n",
       "      <td>0.002778</td>\n",
       "      <td>1</td>\n",
       "    </tr>\n",
       "    <tr>\n",
       "      <th>57</th>\n",
       "      <td>0.260000</td>\n",
       "      <td>0.340000</td>\n",
       "      <td>0.003250</td>\n",
       "      <td>0</td>\n",
       "    </tr>\n",
       "    <tr>\n",
       "      <th>5</th>\n",
       "      <td>0.214286</td>\n",
       "      <td>0.303571</td>\n",
       "      <td>0.003500</td>\n",
       "      <td>0</td>\n",
       "    </tr>\n",
       "    <tr>\n",
       "      <th>46</th>\n",
       "      <td>0.275000</td>\n",
       "      <td>0.350000</td>\n",
       "      <td>0.005083</td>\n",
       "      <td>0</td>\n",
       "    </tr>\n",
       "    <tr>\n",
       "      <th>20</th>\n",
       "      <td>0.277000</td>\n",
       "      <td>0.300000</td>\n",
       "      <td>0.003070</td>\n",
       "      <td>0</td>\n",
       "    </tr>\n",
       "    <tr>\n",
       "      <th>6</th>\n",
       "      <td>0.210714</td>\n",
       "      <td>0.303571</td>\n",
       "      <td>0.003357</td>\n",
       "      <td>0</td>\n",
       "    </tr>\n",
       "    <tr>\n",
       "      <th>54</th>\n",
       "      <td>0.266667</td>\n",
       "      <td>0.166667</td>\n",
       "      <td>0.002500</td>\n",
       "      <td>0</td>\n",
       "    </tr>\n",
       "    <tr>\n",
       "      <th>19</th>\n",
       "      <td>0.174074</td>\n",
       "      <td>0.333333</td>\n",
       "      <td>0.004526</td>\n",
       "      <td>0</td>\n",
       "    </tr>\n",
       "    <tr>\n",
       "      <th>79</th>\n",
       "      <td>0.405000</td>\n",
       "      <td>0.160000</td>\n",
       "      <td>0.003925</td>\n",
       "      <td>0</td>\n",
       "    </tr>\n",
       "  </tbody>\n",
       "</table>\n",
       "</div>"
      ],
      "text/plain": [
       "    total_fat_g_per_gram_of_serving  sugars_g_per_gram_of_serving  \\\n",
       "40                         0.230769                      0.192308   \n",
       "47                         0.219444                      0.333333   \n",
       "57                         0.260000                      0.340000   \n",
       "5                          0.214286                      0.303571   \n",
       "46                         0.275000                      0.350000   \n",
       "20                         0.277000                      0.300000   \n",
       "6                          0.210714                      0.303571   \n",
       "54                         0.266667                      0.166667   \n",
       "19                         0.174074                      0.333333   \n",
       "79                         0.405000                      0.160000   \n",
       "\n",
       "    sodium_g_per_gram_of_serving  class  \n",
       "40                      0.004038      1  \n",
       "47                      0.002778      1  \n",
       "57                      0.003250      0  \n",
       "5                       0.003500      0  \n",
       "46                      0.005083      0  \n",
       "20                      0.003070      0  \n",
       "6                       0.003357      0  \n",
       "54                      0.002500      0  \n",
       "19                      0.004526      0  \n",
       "79                      0.003925      0  "
      ]
     },
     "execution_count": 9,
     "metadata": {},
     "output_type": "execute_result"
    }
   ],
   "source": [
    "# We can see that different snacks are classified to class 0 or 1. \n",
    "new_df.sample(10)"
   ]
  },
  {
   "cell_type": "code",
   "execution_count": 10,
   "id": "ba8b1da1",
   "metadata": {},
   "outputs": [],
   "source": [
    "X = new_df.drop(['class'], axis=1)\n",
    "y = new_df['class']"
   ]
  },
  {
   "cell_type": "code",
   "execution_count": 11,
   "id": "22d6d1b9",
   "metadata": {},
   "outputs": [],
   "source": [
    "X_train, X_test, y_train, y_test = train_test_split(X, y, test_size = 0.25, random_state = 42) "
   ]
  },
  {
   "cell_type": "code",
   "execution_count": 12,
   "id": "3e496738",
   "metadata": {},
   "outputs": [],
   "source": [
    "#We apply SMOTE on the training data to ensure there is a balanced class for the classification. \n",
    "smote = SMOTE(random_state=42)\n",
    "X_train_resampled, y_train_resampled = smote.fit_resample(X_train, y_train)"
   ]
  },
  {
   "cell_type": "code",
   "execution_count": 13,
   "id": "ebe28dc7",
   "metadata": {},
   "outputs": [
    {
     "name": "stdout",
     "output_type": "stream",
     "text": [
      "LogisticRegression()\n",
      "Train classification report\n",
      "              precision    recall  f1-score   support\n",
      "\n",
      "           0       0.76      0.78      0.77        37\n",
      "           1       0.78      0.76      0.77        37\n",
      "\n",
      "    accuracy                           0.77        74\n",
      "   macro avg       0.77      0.77      0.77        74\n",
      "weighted avg       0.77      0.77      0.77        74\n",
      "\n",
      "LogisticRegression()\n",
      "Test classification report\n",
      "              precision    recall  f1-score   support\n",
      "\n",
      "           0       0.93      0.87      0.90        15\n",
      "           1       0.75      0.86      0.80         7\n",
      "\n",
      "    accuracy                           0.86        22\n",
      "   macro avg       0.84      0.86      0.85        22\n",
      "weighted avg       0.87      0.86      0.87        22\n",
      "\n",
      "LogisticRegression() -> cross_val_score for train accuracy using cv=5: 0.664762\n",
      "Time taken is 0.06356573104858398 seconds\n",
      "========================================================================\n",
      "DecisionTreeClassifier()\n",
      "Train classification report\n",
      "              precision    recall  f1-score   support\n",
      "\n",
      "           0       1.00      1.00      1.00        37\n",
      "           1       1.00      1.00      1.00        37\n",
      "\n",
      "    accuracy                           1.00        74\n",
      "   macro avg       1.00      1.00      1.00        74\n",
      "weighted avg       1.00      1.00      1.00        74\n",
      "\n",
      "DecisionTreeClassifier()\n",
      "Test classification report\n",
      "              precision    recall  f1-score   support\n",
      "\n",
      "           0       1.00      1.00      1.00        15\n",
      "           1       1.00      1.00      1.00         7\n",
      "\n",
      "    accuracy                           1.00        22\n",
      "   macro avg       1.00      1.00      1.00        22\n",
      "weighted avg       1.00      1.00      1.00        22\n",
      "\n",
      "DecisionTreeClassifier() -> cross_val_score for train accuracy using cv=5: 0.946667\n",
      "Time taken is 0.03481912612915039 seconds\n",
      "========================================================================\n",
      "RandomForestClassifier()\n",
      "Train classification report\n",
      "              precision    recall  f1-score   support\n",
      "\n",
      "           0       1.00      1.00      1.00        37\n",
      "           1       1.00      1.00      1.00        37\n",
      "\n",
      "    accuracy                           1.00        74\n",
      "   macro avg       1.00      1.00      1.00        74\n",
      "weighted avg       1.00      1.00      1.00        74\n",
      "\n",
      "RandomForestClassifier()\n",
      "Test classification report\n",
      "              precision    recall  f1-score   support\n",
      "\n",
      "           0       1.00      1.00      1.00        15\n",
      "           1       1.00      1.00      1.00         7\n",
      "\n",
      "    accuracy                           1.00        22\n",
      "   macro avg       1.00      1.00      1.00        22\n",
      "weighted avg       1.00      1.00      1.00        22\n",
      "\n",
      "RandomForestClassifier() -> cross_val_score for train accuracy using cv=5: 0.933333\n",
      "Time taken is 1.5251221656799316 seconds\n",
      "========================================================================\n",
      "BaggingClassifier()\n",
      "Train classification report\n",
      "              precision    recall  f1-score   support\n",
      "\n",
      "           0       1.00      1.00      1.00        37\n",
      "           1       1.00      1.00      1.00        37\n",
      "\n",
      "    accuracy                           1.00        74\n",
      "   macro avg       1.00      1.00      1.00        74\n",
      "weighted avg       1.00      1.00      1.00        74\n",
      "\n",
      "BaggingClassifier()\n",
      "Test classification report\n",
      "              precision    recall  f1-score   support\n",
      "\n",
      "           0       1.00      1.00      1.00        15\n",
      "           1       1.00      1.00      1.00         7\n",
      "\n",
      "    accuracy                           1.00        22\n",
      "   macro avg       1.00      1.00      1.00        22\n",
      "weighted avg       1.00      1.00      1.00        22\n",
      "\n",
      "BaggingClassifier() -> cross_val_score for train accuracy using cv=5: 0.920000\n",
      "Time taken is 0.22025513648986816 seconds\n",
      "========================================================================\n"
     ]
    }
   ],
   "source": [
    "\n",
    "pipelines = []\n",
    "pipelines.append(('LogisticRegression' ,LogisticRegression()))\n",
    "pipelines.append(('DecisionTree' ,DecisionTreeClassifier()))\n",
    "pipelines.append(('RandomForest',RandomForestClassifier()))\n",
    "pipelines.append(('BaggingDecisionTree',BaggingClassifier()))\n",
    "\n",
    "model_name = []\n",
    "train_acc_results = []\n",
    "test_acc_results = []\n",
    "train_cv_acc_results = []\n",
    "time_data = []\n",
    "\n",
    "\n",
    "for pipe, model in pipelines:\n",
    "    \n",
    "    tic = time.time()\n",
    "    \n",
    "    model_created = model.fit(X_train_resampled,y_train_resampled)\n",
    "    train_acc_results.append(accuracy_score(y_train_resampled,model.predict(X_train_resampled)))\n",
    "    test_acc_results.append(accuracy_score(y_test,model.predict(X_test)))\n",
    "    model_name.append(pipe)\n",
    "    \n",
    "    crossv_results = cross_val_score(model , X_train_resampled ,y_train_resampled ,cv =5 , scoring='accuracy')\n",
    "    \n",
    "    train_cv_acc_results.append(crossv_results.mean())\n",
    "    \n",
    "    toc = time.time()\n",
    "    \n",
    "    time_taken = toc - tic \n",
    "    \n",
    "    time_data.append(time_taken)\n",
    "    \n",
    "    \n",
    "    msg = model\n",
    "    msg_1 = \"Train classification report\"\n",
    "    msg_2 = \"Test classification report\"\n",
    "    msg_3 = \"%s -> cross_val_score for train accuracy using cv=5: %f\" % (model, crossv_results.mean())\n",
    "    \n",
    "    print(msg)\n",
    "    print(msg_1)\n",
    "    print(classification_report(y_train_resampled, model_created.predict(X_train_resampled)))\n",
    "    print(msg)\n",
    "    print(msg_2)\n",
    "    print(classification_report(y_test, model_created.predict(X_test)))\n",
    "    print(msg_3)\n",
    "    print(f\"Time taken is {time_taken} seconds\")\n",
    "    print(\"========================================================================\")\n",
    "    "
   ]
  },
  {
   "cell_type": "code",
   "execution_count": 14,
   "id": "6c4fb58b",
   "metadata": {},
   "outputs": [],
   "source": [
    "all_models = list(zip(model_name,train_acc_results,test_acc_results,train_cv_acc_results,time_data))\n",
    "\n",
    "models_df = pd.DataFrame(all_models).rename(columns={0:\"Model\",1:\"Train_accuracy_score\",2: 'Test_accuracy_score',3:\"Train_crossval_accuracy_score\",4:\"Time_taken_to_complete (in secs)\"})"
   ]
  },
  {
   "cell_type": "code",
   "execution_count": 15,
   "id": "8df85251",
   "metadata": {},
   "outputs": [
    {
     "data": {
      "text/html": [
       "<div>\n",
       "<style scoped>\n",
       "    .dataframe tbody tr th:only-of-type {\n",
       "        vertical-align: middle;\n",
       "    }\n",
       "\n",
       "    .dataframe tbody tr th {\n",
       "        vertical-align: top;\n",
       "    }\n",
       "\n",
       "    .dataframe thead th {\n",
       "        text-align: right;\n",
       "    }\n",
       "</style>\n",
       "<table border=\"1\" class=\"dataframe\">\n",
       "  <thead>\n",
       "    <tr style=\"text-align: right;\">\n",
       "      <th></th>\n",
       "      <th>Model</th>\n",
       "      <th>Train_accuracy_score</th>\n",
       "      <th>Test_accuracy_score</th>\n",
       "      <th>Train_crossval_accuracy_score</th>\n",
       "      <th>Time_taken_to_complete (in secs)</th>\n",
       "    </tr>\n",
       "  </thead>\n",
       "  <tbody>\n",
       "    <tr>\n",
       "      <th>0</th>\n",
       "      <td>LogisticRegression</td>\n",
       "      <td>0.77027</td>\n",
       "      <td>0.863636</td>\n",
       "      <td>0.664762</td>\n",
       "      <td>0.063566</td>\n",
       "    </tr>\n",
       "    <tr>\n",
       "      <th>1</th>\n",
       "      <td>DecisionTree</td>\n",
       "      <td>1.00000</td>\n",
       "      <td>1.000000</td>\n",
       "      <td>0.946667</td>\n",
       "      <td>0.034819</td>\n",
       "    </tr>\n",
       "    <tr>\n",
       "      <th>2</th>\n",
       "      <td>RandomForest</td>\n",
       "      <td>1.00000</td>\n",
       "      <td>1.000000</td>\n",
       "      <td>0.933333</td>\n",
       "      <td>1.525122</td>\n",
       "    </tr>\n",
       "    <tr>\n",
       "      <th>3</th>\n",
       "      <td>BaggingDecisionTree</td>\n",
       "      <td>1.00000</td>\n",
       "      <td>1.000000</td>\n",
       "      <td>0.920000</td>\n",
       "      <td>0.220255</td>\n",
       "    </tr>\n",
       "  </tbody>\n",
       "</table>\n",
       "</div>"
      ],
      "text/plain": [
       "                 Model  Train_accuracy_score  Test_accuracy_score  \\\n",
       "0   LogisticRegression               0.77027             0.863636   \n",
       "1         DecisionTree               1.00000             1.000000   \n",
       "2         RandomForest               1.00000             1.000000   \n",
       "3  BaggingDecisionTree               1.00000             1.000000   \n",
       "\n",
       "   Train_crossval_accuracy_score  Time_taken_to_complete (in secs)  \n",
       "0                       0.664762                          0.063566  \n",
       "1                       0.946667                          0.034819  \n",
       "2                       0.933333                          1.525122  \n",
       "3                       0.920000                          0.220255  "
      ]
     },
     "execution_count": 15,
     "metadata": {},
     "output_type": "execute_result"
    }
   ],
   "source": [
    "models_df"
   ]
  },
  {
   "cell_type": "markdown",
   "id": "a942c9bf",
   "metadata": {},
   "source": [
    "Based on the various metrics in the dataframe above, we can see that Decision Tree provides the best performance and runs with the least amount of time. \n",
    "We will deploy the Decision Tree model in our snack-o-meter app."
   ]
  },
  {
   "cell_type": "code",
   "execution_count": 16,
   "id": "edc9cb26",
   "metadata": {},
   "outputs": [],
   "source": [
    "# We will now pickle out the Decision Tree model for deployment. \n",
    "DT = DecisionTreeClassifier()\n",
    "DT = DT.fit(X_train_resampled,y_train_resampled)\n",
    "pickle.dump(DT,open(\"../streamlit/classifier.pkl\",\"wb\"))"
   ]
  },
  {
   "cell_type": "code",
   "execution_count": 36,
   "id": "14caf256",
   "metadata": {},
   "outputs": [
    {
     "data": {
      "text/plain": [
       "[Text(0.6, 0.875, 'x[0] <= 0.253\\ngini = 0.5\\nsamples = 74\\nvalue = [37, 37]'),\n",
       " Text(0.4, 0.625, 'x[1] <= 0.232\\ngini = 0.292\\nsamples = 45\\nvalue = [8, 37]'),\n",
       " Text(0.2, 0.375, 'gini = 0.0\\nsamples = 23\\nvalue = [0, 23]'),\n",
       " Text(0.6, 0.375, 'x[2] <= 0.003\\ngini = 0.463\\nsamples = 22\\nvalue = [8, 14]'),\n",
       " Text(0.4, 0.125, 'gini = 0.0\\nsamples = 14\\nvalue = [0, 14]'),\n",
       " Text(0.8, 0.125, 'gini = 0.0\\nsamples = 8\\nvalue = [8, 0]'),\n",
       " Text(0.8, 0.625, 'gini = 0.0\\nsamples = 29\\nvalue = [29, 0]')]"
      ]
     },
     "execution_count": 36,
     "metadata": {},
     "output_type": "execute_result"
    },
    {
     "data": {
      "image/png": "[encoded data removed]",
      "text/plain": [
       "<Figure size 640x480 with 1 Axes>"
      ]
     },
     "metadata": {},
     "output_type": "display_data"
    }
   ],
   "source": [
    "# Plotting the decision tree that we have built for deployment.\n",
    "from sklearn import tree\n",
    "tree.plot_tree(DT)"
   ]
  },
  {
   "cell_type": "markdown",
   "id": "f036ce8e",
   "metadata": {},
   "source": [
    "From the decision tree, x[0] refers to the fat content, x[1] refers to the sugar content and x[3] refers to the sodium content. \n",
    "We can see that it has learned the criteria that we have determined earlier to classify the biscuits.\n",
    "In addition, the fat content was the most influential variable for the decision tree in making the initial split."
   ]
  },
  {
   "cell_type": "markdown",
   "id": "6c40f276",
   "metadata": {},
   "source": [
    "### Conclusion"
   ]
  },
  {
   "cell_type": "markdown",
   "id": "f73e2288",
   "metadata": {},
   "source": [
    "- Our decision tree model yields train and test accuracy greater than 0.9, and the train cross validation score also shows that the model is reliable to be deployed for classification.\n",
    "- With this model, we developed an user-friendly tool (https://snack-o-meter.streamlit.app/) to help consumers identify if the biscuit of their choice is healthy or not, and recommend healthy alternatives.\n"
   ]
  },
  {
   "cell_type": "markdown",
   "id": "e96b162f",
   "metadata": {},
   "source": [
    "### Recommendations"
   ]
  },
  {
   "cell_type": "markdown",
   "id": "5f40ec81",
   "metadata": {},
   "source": [
    "1 - **Increase Public Awareness**\n",
    "\n",
    "- Through marketing campaigns (offline and online campaigns)\n",
    "\n",
    "2 - **Expand the model to include other snack types**\n",
    "\n",
    "- For example: Nuts and chips\n",
    "\n",
    "3 - **Integrate tool into HPB’s existing Health 365 app**\n",
    "\n",
    "- Intergration is beneficial as it makes Health 365 as “one stop app”\n"
   ]
  },
  {
   "cell_type": "markdown",
   "id": "73fa6db4",
   "metadata": {},
   "source": [
    "### Cost Benefit Analysis"
   ]
  },
  {
   "cell_type": "markdown",
   "id": "eced4417",
   "metadata": {},
   "source": [
    "**Estimated Cost (per year): $500,000**\n",
    "\n",
    "**1. Marketing Campaign for \"Snack-O-Meter\": $400,000** \n",
    "\n",
    "The Nutri-Grade mark was officially launched on 30 Dec 2022. In FY2022, HPB spent $400,000 on programme, supplies & marketing. Using this as a reference, it is expected that the marketing campaign for \"Snack-O-Meter\" will cost about the same.\n",
    "\n",
    "_Sources:_ \n",
    "- _HPB Annual Report 2021/2022: https://www.hpb.gov.sg/docs/default-source/pdf/hpb-2022_2023-annual-report.pdf?sfvrsn=bec1a971_2_ \n",
    "- _MOH News Highlight: https://www.moh.gov.sg/news-highlights/details/rollout-of-nutri-grade-mark-on-30-december-2022_\n",
    "\n",
    "**2. Application Development and Maintenance: $100,000** \n",
    "\n",
    "The intention is for the \"Snack-O-Meter\" to be incorporated into HPB's existing application, the Health 365. The advantage of integration (as opposed to building a standalone app) is that it would save cost on app development. In addition, it also uses the Health 365 as a \"one-stop\" app for the public with regards to health matters. Lastly, there would be no additional server cost required.\n",
    "\n",
    "_Source:_ \n",
    "- _How Much Does It Cost to Develop an App in Singapore in 2022?: https://neetable.com/blog/app-development-cost-in-singapore_\n"
   ]
  },
  {
   "cell_type": "markdown",
   "id": "184e370c",
   "metadata": {},
   "source": [
    "**Estimated Benefit (per year): $12,840,000**\n",
    "\n",
    "\n",
    "**3.  Healthcare cost of metabolic risk: $642,000,000** \n",
    "\n",
    "Research conducted in 2023 calculated that the healthcare cost arising from metabolic risks would amounted to S$642 million. Metabolic risk in this study is defined by high systolic blood pressure, high fasting plasma glucose, high LDL cholesterol. Consumption of sodium, sugar, and fat are positively correlated to the above metabolic risk.\n",
    "\n",
    "From FY2017 to FY2019, the median sugar level of beverages decreased from 8.5 to 6.3 grams per 100 ml (25%). This was attributed to the Nutri-Grade campaign which led to suppliers reducing sugar in their beverages.\n",
    "\n",
    "According to Etiqa's Nutrition Survey conducted in 2022, most snackers would snack more than 3 times in a week. Assuming a person consumed a serving of Hello Panda Chocolate a day, that would constitute about 8% of the daily average fats, sodium and sugar intake overall in Singapore. If the sucess of the Nutri-Grade campaign (25% reduction) can be applied to \"Snack-O-Meter\", a 2% (25% * 8%) reduction in daily intake of fats, sodium, and sugar intake is expected. Lastly, assuming that reduction in consumption of those nutrients of concern can directly impact metabolic risk by the same %, then a reduction of healthcare cost of $12,840,000 is expected.\n",
    "\n",
    "_Sources:_\n",
    "- _The societal cost of modifiable risk factors in Singapore: https://bmcpublichealth.biomedcentral.com/articles/10.1186/s12889-023-16198-2_ \n",
    "- _Ministry of Health’s (MOH) National Population Health Survey (NPHS) 2022 and Health Promotion Board’s (HPB) National Nutrition Survey (NNS) 2022: https://www.moh.gov.sg/news-highlights/details/national-health-surveys-highlight-need-to-focus-on-healthy-diets-and-lifestyles_\n"
   ]
  },
  {
   "cell_type": "markdown",
   "id": "221aebf7",
   "metadata": {},
   "source": [
    "### Extra component: Trying K-means clustering to label data for modelling"
   ]
  },
  {
   "cell_type": "markdown",
   "id": "e7d7acdf",
   "metadata": {},
   "source": [
    "In the above modelling, we made use of rule-based data labelling and model performance was good. We want to further explore if adopting unsupervised learning such as K-means clustering to assign the labels would improve model performance. "
   ]
  },
  {
   "cell_type": "code",
   "execution_count": 17,
   "id": "f0ac843c",
   "metadata": {},
   "outputs": [],
   "source": [
    "from sklearn.cluster import KMeans\n",
    "from sklearn.metrics import silhouette_score\n",
    "\n",
    "from sklearn.preprocessing import StandardScaler"
   ]
  },
  {
   "cell_type": "code",
   "execution_count": 18,
   "id": "dceeed11",
   "metadata": {},
   "outputs": [],
   "source": [
    "df_clustering = new_df[['total_fat_g_per_gram_of_serving','sugars_g_per_gram_of_serving','sodium_g_per_gram_of_serving']]"
   ]
  },
  {
   "cell_type": "code",
   "execution_count": 19,
   "id": "ef501def",
   "metadata": {},
   "outputs": [],
   "source": [
    "scaler = StandardScaler().fit(df_clustering)\n",
    "scaled_df = scaler.transform(df_clustering)"
   ]
  },
  {
   "cell_type": "code",
   "execution_count": 20,
   "id": "47580278",
   "metadata": {},
   "outputs": [
    {
     "data": {
      "text/plain": [
       "Index(['total_fat_g_per_gram_of_serving', 'sugars_g_per_gram_of_serving',\n",
       "       'sodium_g_per_gram_of_serving'],\n",
       "      dtype='object')"
      ]
     },
     "execution_count": 20,
     "metadata": {},
     "output_type": "execute_result"
    }
   ],
   "source": [
    "df_clustering_features = df_clustering.columns\n",
    "df_clustering_features"
   ]
  },
  {
   "cell_type": "code",
   "execution_count": 21,
   "id": "2a9cd1b4",
   "metadata": {},
   "outputs": [
    {
     "name": "stderr",
     "output_type": "stream",
     "text": [
      "/Users/licheng/anaconda3/lib/python3.11/site-packages/sklearn/cluster/_kmeans.py:870: FutureWarning: The default value of `n_init` will change from 10 to 'auto' in 1.4. Set the value of `n_init` explicitly to suppress the warning\n",
      "  warnings.warn(\n",
      "/Users/licheng/anaconda3/lib/python3.11/site-packages/sklearn/cluster/_kmeans.py:870: FutureWarning: The default value of `n_init` will change from 10 to 'auto' in 1.4. Set the value of `n_init` explicitly to suppress the warning\n",
      "  warnings.warn(\n",
      "/Users/licheng/anaconda3/lib/python3.11/site-packages/sklearn/cluster/_kmeans.py:870: FutureWarning: The default value of `n_init` will change from 10 to 'auto' in 1.4. Set the value of `n_init` explicitly to suppress the warning\n",
      "  warnings.warn(\n",
      "/Users/licheng/anaconda3/lib/python3.11/site-packages/sklearn/cluster/_kmeans.py:870: FutureWarning: The default value of `n_init` will change from 10 to 'auto' in 1.4. Set the value of `n_init` explicitly to suppress the warning\n",
      "  warnings.warn(\n",
      "/Users/licheng/anaconda3/lib/python3.11/site-packages/sklearn/cluster/_kmeans.py:870: FutureWarning: The default value of `n_init` will change from 10 to 'auto' in 1.4. Set the value of `n_init` explicitly to suppress the warning\n",
      "  warnings.warn(\n",
      "/Users/licheng/anaconda3/lib/python3.11/site-packages/sklearn/cluster/_kmeans.py:870: FutureWarning: The default value of `n_init` will change from 10 to 'auto' in 1.4. Set the value of `n_init` explicitly to suppress the warning\n",
      "  warnings.warn(\n",
      "/Users/licheng/anaconda3/lib/python3.11/site-packages/sklearn/cluster/_kmeans.py:870: FutureWarning: The default value of `n_init` will change from 10 to 'auto' in 1.4. Set the value of `n_init` explicitly to suppress the warning\n",
      "  warnings.warn(\n",
      "/Users/licheng/anaconda3/lib/python3.11/site-packages/sklearn/cluster/_kmeans.py:870: FutureWarning: The default value of `n_init` will change from 10 to 'auto' in 1.4. Set the value of `n_init` explicitly to suppress the warning\n",
      "  warnings.warn(\n",
      "/Users/licheng/anaconda3/lib/python3.11/site-packages/sklearn/cluster/_kmeans.py:870: FutureWarning: The default value of `n_init` will change from 10 to 'auto' in 1.4. Set the value of `n_init` explicitly to suppress the warning\n",
      "  warnings.warn(\n"
     ]
    },
    {
     "data": {
      "image/png": "[encoded data removed]",
      "text/plain": [
       "<Figure size 640x480 with 1 Axes>"
      ]
     },
     "metadata": {},
     "output_type": "display_data"
    }
   ],
   "source": [
    "# We can use Silhouette scores to find the best K value.\n",
    "range_n_clusters = [2, 3, 4, 5, 6, 7, 8,9,10]\n",
    "silhouette_scores = []\n",
    "for num_clusters in range_n_clusters:\n",
    " \n",
    "    # instantiate and fit kmeans model for each k value\n",
    "    kmeans = KMeans(n_clusters=num_clusters)\n",
    "    kmeans.fit(scaled_df)\n",
    "    cluster_labels = kmeans.labels_\n",
    " \n",
    "    # generate silhouette score\n",
    "    silhouette_scores.append(silhouette_score(scaled_df, cluster_labels))\n",
    "    \n",
    "plt.plot(range_n_clusters, silhouette_scores, 'bx-')\n",
    "plt.xlabel('Values of K') \n",
    "plt.ylabel('Silhouette Score') \n",
    "plt.title('Silhouette Analysis for Optimal k')\n",
    "plt.show()\n",
    "\n",
    "# Silhouette score : choose the highest score."
   ]
  },
  {
   "cell_type": "markdown",
   "id": "383d9160",
   "metadata": {},
   "source": [
    "Based on the above Silhouette analysis chart, k = 2 yields the highest score. "
   ]
  },
  {
   "cell_type": "code",
   "execution_count": 22,
   "id": "6a141d41",
   "metadata": {},
   "outputs": [
    {
     "name": "stderr",
     "output_type": "stream",
     "text": [
      "/Users/licheng/anaconda3/lib/python3.11/site-packages/sklearn/cluster/_kmeans.py:870: FutureWarning: The default value of `n_init` will change from 10 to 'auto' in 1.4. Set the value of `n_init` explicitly to suppress the warning\n",
      "  warnings.warn(\n",
      "/Users/licheng/anaconda3/lib/python3.11/site-packages/sklearn/cluster/_kmeans.py:870: FutureWarning: The default value of `n_init` will change from 10 to 'auto' in 1.4. Set the value of `n_init` explicitly to suppress the warning\n",
      "  warnings.warn(\n",
      "/Users/licheng/anaconda3/lib/python3.11/site-packages/sklearn/cluster/_kmeans.py:870: FutureWarning: The default value of `n_init` will change from 10 to 'auto' in 1.4. Set the value of `n_init` explicitly to suppress the warning\n",
      "  warnings.warn(\n",
      "/Users/licheng/anaconda3/lib/python3.11/site-packages/sklearn/cluster/_kmeans.py:870: FutureWarning: The default value of `n_init` will change from 10 to 'auto' in 1.4. Set the value of `n_init` explicitly to suppress the warning\n",
      "  warnings.warn(\n",
      "/Users/licheng/anaconda3/lib/python3.11/site-packages/sklearn/cluster/_kmeans.py:870: FutureWarning: The default value of `n_init` will change from 10 to 'auto' in 1.4. Set the value of `n_init` explicitly to suppress the warning\n",
      "  warnings.warn(\n",
      "/Users/licheng/anaconda3/lib/python3.11/site-packages/sklearn/cluster/_kmeans.py:870: FutureWarning: The default value of `n_init` will change from 10 to 'auto' in 1.4. Set the value of `n_init` explicitly to suppress the warning\n",
      "  warnings.warn(\n",
      "/Users/licheng/anaconda3/lib/python3.11/site-packages/sklearn/cluster/_kmeans.py:870: FutureWarning: The default value of `n_init` will change from 10 to 'auto' in 1.4. Set the value of `n_init` explicitly to suppress the warning\n",
      "  warnings.warn(\n",
      "/Users/licheng/anaconda3/lib/python3.11/site-packages/sklearn/cluster/_kmeans.py:870: FutureWarning: The default value of `n_init` will change from 10 to 'auto' in 1.4. Set the value of `n_init` explicitly to suppress the warning\n",
      "  warnings.warn(\n",
      "/Users/licheng/anaconda3/lib/python3.11/site-packages/sklearn/cluster/_kmeans.py:870: FutureWarning: The default value of `n_init` will change from 10 to 'auto' in 1.4. Set the value of `n_init` explicitly to suppress the warning\n",
      "  warnings.warn(\n"
     ]
    },
    {
     "data": {
      "image/png": "[encoded data removed]",
      "text/plain": [
       "<Figure size 640x480 with 1 Axes>"
      ]
     },
     "metadata": {},
     "output_type": "display_data"
    }
   ],
   "source": [
    "# We try to plot the chart using the inertia to determine the best k value. \n",
    "\n",
    "sum_of_squared_distances = []\n",
    "K = range(1,10)\n",
    "\n",
    "for num_clusters in K :\n",
    "    kmeans = KMeans(n_clusters=num_clusters)\n",
    "    kmeans.fit(scaled_df)\n",
    "    \n",
    "    # Inertia tells how far away the points within a cluster are. Therefore, a small of inertia is aimed for\n",
    "    # Inertia can range from zero to infinity\n",
    "    sum_of_squared_distances.append(kmeans.inertia_)\n",
    "    \n",
    "plt.plot(K,sum_of_squared_distances,'bx-')\n",
    "plt.xlabel('Values of K') \n",
    "plt.ylabel('Sum of squared distances / Inertia') \n",
    "plt.title('Elbow Method For Optimal k')\n",
    "plt.show()\n"
   ]
  },
  {
   "cell_type": "markdown",
   "id": "ebf38097",
   "metadata": {},
   "source": [
    "Based on the chart above, the steepest gradient happened at k=2, this shows that we should try to cluster the data into 2 groups."
   ]
  },
  {
   "cell_type": "code",
   "execution_count": 23,
   "id": "e1eac4ca",
   "metadata": {},
   "outputs": [
    {
     "name": "stderr",
     "output_type": "stream",
     "text": [
      "/Users/licheng/anaconda3/lib/python3.11/site-packages/sklearn/cluster/_kmeans.py:870: FutureWarning: The default value of `n_init` will change from 10 to 'auto' in 1.4. Set the value of `n_init` explicitly to suppress the warning\n",
      "  warnings.warn(\n"
     ]
    },
    {
     "data": {
      "text/html": [
       "<style>#sk-container-id-1 {color: black;background-color: white;}#sk-container-id-1 pre{padding: 0;}#sk-container-id-1 div.sk-toggleable {background-color: white;}#sk-container-id-1 label.sk-toggleable__label {cursor: pointer;display: block;width: 100%;margin-bottom: 0;padding: 0.3em;box-sizing: border-box;text-align: center;}#sk-container-id-1 label.sk-toggleable__label-arrow:before {content: \"▸\";float: left;margin-right: 0.25em;color: #696969;}#sk-container-id-1 label.sk-toggleable__label-arrow:hover:before {color: black;}#sk-container-id-1 div.sk-estimator:hover label.sk-toggleable__label-arrow:before {color: black;}#sk-container-id-1 div.sk-toggleable__content {max-height: 0;max-width: 0;overflow: hidden;text-align: left;background-color: #f0f8ff;}#sk-container-id-1 div.sk-toggleable__content pre {margin: 0.2em;color: black;border-radius: 0.25em;background-color: #f0f8ff;}#sk-container-id-1 input.sk-toggleable__control:checked~div.sk-toggleable__content {max-height: 200px;max-width: 100%;overflow: auto;}#sk-container-id-1 input.sk-toggleable__control:checked~label.sk-toggleable__label-arrow:before {content: \"▾\";}#sk-container-id-1 div.sk-estimator input.sk-toggleable__control:checked~label.sk-toggleable__label {background-color: #d4ebff;}#sk-container-id-1 div.sk-label input.sk-toggleable__control:checked~label.sk-toggleable__label {background-color: #d4ebff;}#sk-container-id-1 input.sk-hidden--visually {border: 0;clip: rect(1px 1px 1px 1px);clip: rect(1px, 1px, 1px, 1px);height: 1px;margin: -1px;overflow: hidden;padding: 0;position: absolute;width: 1px;}#sk-container-id-1 div.sk-estimator {font-family: monospace;background-color: #f0f8ff;border: 1px dotted black;border-radius: 0.25em;box-sizing: border-box;margin-bottom: 0.5em;}#sk-container-id-1 div.sk-estimator:hover {background-color: #d4ebff;}#sk-container-id-1 div.sk-parallel-item::after {content: \"\";width: 100%;border-bottom: 1px solid gray;flex-grow: 1;}#sk-container-id-1 div.sk-label:hover label.sk-toggleable__label {background-color: #d4ebff;}#sk-container-id-1 div.sk-serial::before {content: \"\";position: absolute;border-left: 1px solid gray;box-sizing: border-box;top: 0;bottom: 0;left: 50%;z-index: 0;}#sk-container-id-1 div.sk-serial {display: flex;flex-direction: column;align-items: center;background-color: white;padding-right: 0.2em;padding-left: 0.2em;position: relative;}#sk-container-id-1 div.sk-item {position: relative;z-index: 1;}#sk-container-id-1 div.sk-parallel {display: flex;align-items: stretch;justify-content: center;background-color: white;position: relative;}#sk-container-id-1 div.sk-item::before, #sk-container-id-1 div.sk-parallel-item::before {content: \"\";position: absolute;border-left: 1px solid gray;box-sizing: border-box;top: 0;bottom: 0;left: 50%;z-index: -1;}#sk-container-id-1 div.sk-parallel-item {display: flex;flex-direction: column;z-index: 1;position: relative;background-color: white;}#sk-container-id-1 div.sk-parallel-item:first-child::after {align-self: flex-end;width: 50%;}#sk-container-id-1 div.sk-parallel-item:last-child::after {align-self: flex-start;width: 50%;}#sk-container-id-1 div.sk-parallel-item:only-child::after {width: 0;}#sk-container-id-1 div.sk-dashed-wrapped {border: 1px dashed gray;margin: 0 0.4em 0.5em 0.4em;box-sizing: border-box;padding-bottom: 0.4em;background-color: white;}#sk-container-id-1 div.sk-label label {font-family: monospace;font-weight: bold;display: inline-block;line-height: 1.2em;}#sk-container-id-1 div.sk-label-container {text-align: center;}#sk-container-id-1 div.sk-container {/* jupyter's `normalize.less` sets `[hidden] { display: none; }` but bootstrap.min.css set `[hidden] { display: none !important; }` so we also need the `!important` here to be able to override the default hidden behavior on the sphinx rendered scikit-learn.org. See: https://github.com/scikit-learn/scikit-learn/issues/21755 */display: inline-block !important;position: relative;}#sk-container-id-1 div.sk-text-repr-fallback {display: none;}</style><div id=\"sk-container-id-1\" class=\"sk-top-container\"><div class=\"sk-text-repr-fallback\"><pre>KMeans(max_iter=500, n_clusters=2, random_state=42)</pre><b>In a Jupyter environment, please rerun this cell to show the HTML representation or trust the notebook. <br />On GitHub, the HTML representation is unable to render, please try loading this page with nbviewer.org.</b></div><div class=\"sk-container\" hidden><div class=\"sk-item\"><div class=\"sk-estimator sk-toggleable\"><input class=\"sk-toggleable__control sk-hidden--visually\" id=\"sk-estimator-id-1\" type=\"checkbox\" checked><label for=\"sk-estimator-id-1\" class=\"sk-toggleable__label sk-toggleable__label-arrow\">KMeans</label><div class=\"sk-toggleable__content\"><pre>KMeans(max_iter=500, n_clusters=2, random_state=42)</pre></div></div></div></div></div>"
      ],
      "text/plain": [
       "KMeans(max_iter=500, n_clusters=2, random_state=42)"
      ]
     },
     "execution_count": 23,
     "metadata": {},
     "output_type": "execute_result"
    }
   ],
   "source": [
    "# Instantiate a clustering object with 2 clusters\n",
    "clustering = KMeans(n_clusters=2, max_iter=500, random_state=42)\n",
    "\n",
    "clustering.fit(scaled_df)"
   ]
  },
  {
   "cell_type": "code",
   "execution_count": 24,
   "id": "8275492c",
   "metadata": {},
   "outputs": [
    {
     "data": {
      "text/plain": [
       "class\n",
       "0.0    30\n",
       "1.0    58\n",
       "Name: class, dtype: int64"
      ]
     },
     "execution_count": 24,
     "metadata": {},
     "output_type": "execute_result"
    }
   ],
   "source": [
    "classes = clustering.labels_\n",
    "scaled_dataset = pd.DataFrame(np.hstack((scaled_df, classes.reshape(-1, 1))))\n",
    "scaled_dataset = scaled_dataset.rename(columns={0:\"total_fat\",1:\"sugars\",2:\"sodium\",3:\"class\"})\n",
    "scaled_dataset.groupby('class')['class'].count()"
   ]
  },
  {
   "cell_type": "markdown",
   "id": "10d88c9c",
   "metadata": {},
   "source": [
    "With the clustering method, the classes are imbalanced,  which will require us to run techniques like SMOTE to upsample class 0."
   ]
  },
  {
   "cell_type": "code",
   "execution_count": 25,
   "id": "6f46370a",
   "metadata": {},
   "outputs": [
    {
     "data": {
      "text/plain": [
       "Text(0.5, 1.0, 'K-means clustering')"
      ]
     },
     "execution_count": 25,
     "metadata": {},
     "output_type": "execute_result"
    },
    {
     "data": {
      "image/png": "[encoded data removed]",
      "text/plain": [
       "<Figure size 640x480 with 1 Axes>"
      ]
     },
     "metadata": {},
     "output_type": "display_data"
    }
   ],
   "source": [
    "# create visualisation of clustering results\n",
    "fig = plt.figure()\n",
    "ax = fig.add_axes([.1, .1, 1, 1])\n",
    "\n",
    "# set colours to represent respective model labels\n",
    "colors = clustering.labels_\n",
    "\n",
    "#unscaled the data for visualisation\n",
    "df_unscaled = scaler.inverse_transform(scaled_df)\n",
    "\n",
    "# display scatter plot at column index = 2 and column index = 1\n",
    "# c refers to label colours which equal to model labels in this case\n",
    "# s refers to the size of the scatter plot\n",
    "ax.scatter(df_unscaled[:,1], df_unscaled[:,2], c=colors, s=120)\n",
    "\n",
    "\n",
    "# set labels for axes\n",
    "ax.set_xlabel('Sugars')\n",
    "ax.set_ylabel('Sodium')\n",
    "\n",
    "# set title fror scatter plot\n",
    "plt.title('K-means clustering')"
   ]
  },
  {
   "cell_type": "markdown",
   "id": "a8e3b0b3",
   "metadata": {},
   "source": [
    "By plotting sodium against sugars, we can see two distinct clusters separated by a linear line (i.e. y = mx + c)."
   ]
  },
  {
   "cell_type": "code",
   "execution_count": 26,
   "id": "c900cc4a",
   "metadata": {},
   "outputs": [
    {
     "data": {
      "text/plain": [
       "Text(0.5, 1.0, 'K-means clustering')"
      ]
     },
     "execution_count": 26,
     "metadata": {},
     "output_type": "execute_result"
    },
    {
     "data": {
      "image/png": "[encoded data removed]",
      "text/plain": [
       "<Figure size 640x480 with 1 Axes>"
      ]
     },
     "metadata": {},
     "output_type": "display_data"
    }
   ],
   "source": [
    "# create visualisation of clustering results\n",
    "fig = plt.figure()\n",
    "ax = fig.add_axes([.1, .1, 1, 1])\n",
    "\n",
    "# set colours to represent respective model labels\n",
    "colors = clustering.labels_\n",
    "\n",
    "#unscaled the data for visualisation\n",
    "df_unscaled = scaler.inverse_transform(scaled_df)\n",
    "\n",
    "# display scatter plot at column index = 2 and column index = 1\n",
    "# c refers to label colours which equal to model labels in this case\n",
    "# s refers to the size of the scatter plot\n",
    "ax.scatter(df_unscaled[:,0], df_unscaled[:,1], c=colors, s=120)\n",
    "\n",
    "\n",
    "# set labels for axes\n",
    "ax.set_xlabel('Fats')\n",
    "ax.set_ylabel('Sugars')\n",
    "\n",
    "# set title fror scatter plot\n",
    "plt.title('K-means clustering')"
   ]
  },
  {
   "cell_type": "markdown",
   "id": "5ef096a9",
   "metadata": {},
   "source": [
    "By plotting sugars against fats, we can see two clusters with slight overlap generally separated by a horizontal line of y = c. "
   ]
  },
  {
   "cell_type": "code",
   "execution_count": 27,
   "id": "51d123bb",
   "metadata": {},
   "outputs": [
    {
     "data": {
      "text/plain": [
       "Text(0.5, 1.0, 'K-means clustering')"
      ]
     },
     "execution_count": 27,
     "metadata": {},
     "output_type": "execute_result"
    },
    {
     "data": {
      "image/png": "[encoded data removed]",
      "text/plain": [
       "<Figure size 640x480 with 1 Axes>"
      ]
     },
     "metadata": {},
     "output_type": "display_data"
    }
   ],
   "source": [
    "# create visualisation of clustering results\n",
    "fig = plt.figure()\n",
    "ax = fig.add_axes([.1, .1, 1, 1])\n",
    "\n",
    "# set colours to represent respective model labels\n",
    "colors = clustering.labels_\n",
    "\n",
    "#unscaled the data for visualisation\n",
    "df_unscaled = scaler.inverse_transform(scaled_df)\n",
    "\n",
    "# display scatter plot at column index = 2 and column index = 1\n",
    "# c refers to label colours which equal to model labels in this case\n",
    "# s refers to the size of the scatter plot\n",
    "ax.scatter(df_unscaled[:,0], df_unscaled[:,2], c=colors, s=120)\n",
    "\n",
    "\n",
    "# set labels for axes\n",
    "ax.set_xlabel('Fats')\n",
    "ax.set_ylabel('Sodium')\n",
    "\n",
    "# set title fror scatter plot\n",
    "plt.title('K-means clustering')"
   ]
  },
  {
   "cell_type": "markdown",
   "id": "68a32294",
   "metadata": {},
   "source": [
    "By plotting sodium against fats, there is more overlap in the data points when determining the clusters. This suggests that the k-means clustering is not quite able to distinctively differentiate the data points."
   ]
  },
  {
   "cell_type": "code",
   "execution_count": 28,
   "id": "18c1eaee",
   "metadata": {},
   "outputs": [],
   "source": [
    "X_cluster = scaled_dataset.drop(['class'],axis = 1)\n",
    "y_cluster = scaled_dataset['class']"
   ]
  },
  {
   "cell_type": "code",
   "execution_count": 29,
   "id": "47c7d209",
   "metadata": {},
   "outputs": [],
   "source": [
    "Xc_train, Xc_test, yc_train, yc_test = train_test_split(X_cluster, y_cluster, test_size = 0.25, random_state = 42) "
   ]
  },
  {
   "cell_type": "code",
   "execution_count": 30,
   "id": "e2161f2b",
   "metadata": {},
   "outputs": [],
   "source": [
    "smote = SMOTE(random_state=42)\n",
    "Xc_train_resampled, yc_train_resampled = smote.fit_resample(Xc_train, yc_train)"
   ]
  },
  {
   "cell_type": "code",
   "execution_count": 31,
   "id": "4f5c9db2",
   "metadata": {},
   "outputs": [
    {
     "name": "stdout",
     "output_type": "stream",
     "text": [
      "LogisticRegression()\n",
      "Train classification report\n",
      "              precision    recall  f1-score   support\n",
      "\n",
      "         0.0       1.00      1.00      1.00        42\n",
      "         1.0       1.00      1.00      1.00        42\n",
      "\n",
      "    accuracy                           1.00        84\n",
      "   macro avg       1.00      1.00      1.00        84\n",
      "weighted avg       1.00      1.00      1.00        84\n",
      "\n",
      "LogisticRegression()\n",
      "Test classification report\n",
      "              precision    recall  f1-score   support\n",
      "\n",
      "         0.0       0.86      1.00      0.92         6\n",
      "         1.0       1.00      0.94      0.97        16\n",
      "\n",
      "    accuracy                           0.95        22\n",
      "   macro avg       0.93      0.97      0.95        22\n",
      "weighted avg       0.96      0.95      0.96        22\n",
      "\n",
      "LogisticRegression() -> cross_val_score for train accuracy using cv=5: 0.988235\n",
      "Time taken is 0.051586151123046875 seconds\n",
      "========================================================================\n",
      "DecisionTreeClassifier()\n",
      "Train classification report\n",
      "              precision    recall  f1-score   support\n",
      "\n",
      "         0.0       1.00      1.00      1.00        42\n",
      "         1.0       1.00      1.00      1.00        42\n",
      "\n",
      "    accuracy                           1.00        84\n",
      "   macro avg       1.00      1.00      1.00        84\n",
      "weighted avg       1.00      1.00      1.00        84\n",
      "\n",
      "DecisionTreeClassifier()\n",
      "Test classification report\n",
      "              precision    recall  f1-score   support\n",
      "\n",
      "         0.0       0.75      1.00      0.86         6\n",
      "         1.0       1.00      0.88      0.93        16\n",
      "\n",
      "    accuracy                           0.91        22\n",
      "   macro avg       0.88      0.94      0.90        22\n",
      "weighted avg       0.93      0.91      0.91        22\n",
      "\n",
      "DecisionTreeClassifier() -> cross_val_score for train accuracy using cv=5: 0.964706\n",
      "Time taken is 0.023964881896972656 seconds\n",
      "========================================================================\n",
      "RandomForestClassifier()\n",
      "Train classification report\n",
      "              precision    recall  f1-score   support\n",
      "\n",
      "         0.0       1.00      1.00      1.00        42\n",
      "         1.0       1.00      1.00      1.00        42\n",
      "\n",
      "    accuracy                           1.00        84\n",
      "   macro avg       1.00      1.00      1.00        84\n",
      "weighted avg       1.00      1.00      1.00        84\n",
      "\n",
      "RandomForestClassifier()\n",
      "Test classification report\n",
      "              precision    recall  f1-score   support\n",
      "\n",
      "         0.0       0.75      1.00      0.86         6\n",
      "         1.0       1.00      0.88      0.93        16\n",
      "\n",
      "    accuracy                           0.91        22\n",
      "   macro avg       0.88      0.94      0.90        22\n",
      "weighted avg       0.93      0.91      0.91        22\n",
      "\n",
      "RandomForestClassifier() -> cross_val_score for train accuracy using cv=5: 1.000000\n",
      "Time taken is 0.959054708480835 seconds\n",
      "========================================================================\n",
      "BaggingClassifier()\n",
      "Train classification report\n",
      "              precision    recall  f1-score   support\n",
      "\n",
      "         0.0       1.00      1.00      1.00        42\n",
      "         1.0       1.00      1.00      1.00        42\n",
      "\n",
      "    accuracy                           1.00        84\n",
      "   macro avg       1.00      1.00      1.00        84\n",
      "weighted avg       1.00      1.00      1.00        84\n",
      "\n",
      "BaggingClassifier()\n",
      "Test classification report\n",
      "              precision    recall  f1-score   support\n",
      "\n",
      "         0.0       0.75      1.00      0.86         6\n",
      "         1.0       1.00      0.88      0.93        16\n",
      "\n",
      "    accuracy                           0.91        22\n",
      "   macro avg       0.88      0.94      0.90        22\n",
      "weighted avg       0.93      0.91      0.91        22\n",
      "\n",
      "BaggingClassifier() -> cross_val_score for train accuracy using cv=5: 0.964706\n",
      "Time taken is 0.14002513885498047 seconds\n",
      "========================================================================\n"
     ]
    }
   ],
   "source": [
    "\n",
    "pipelines = []\n",
    "pipelines.append(('LogisticRegression' ,LogisticRegression()))\n",
    "pipelines.append(('DecisionTree' ,DecisionTreeClassifier()))\n",
    "pipelines.append(('RandomForest',RandomForestClassifier()))\n",
    "pipelines.append(('BaggingDecisionTree',BaggingClassifier()))\n",
    "\n",
    "model_name = []\n",
    "train_acc_results = []\n",
    "test_acc_results = []\n",
    "train_cv_acc_results = []\n",
    "time_data = []\n",
    "\n",
    "\n",
    "for pipe, model in pipelines:\n",
    "    \n",
    "    tic = time.time()\n",
    "    \n",
    "    model_created = model.fit(Xc_train_resampled,yc_train_resampled)\n",
    "    train_acc_results.append(accuracy_score(yc_train_resampled,model.predict(Xc_train_resampled)))\n",
    "    test_acc_results.append(accuracy_score(yc_test,model.predict(Xc_test)))\n",
    "    model_name.append(pipe)\n",
    "    \n",
    "    crossv_results = cross_val_score(model , Xc_train_resampled ,yc_train_resampled ,cv =5 , scoring='accuracy')\n",
    "    \n",
    "    train_cv_acc_results.append(crossv_results.mean())\n",
    "    \n",
    "    toc = time.time()\n",
    "    \n",
    "    time_taken = toc - tic \n",
    "    \n",
    "    time_data.append(time_taken)\n",
    "    \n",
    "    \n",
    "    msg = model\n",
    "    msg_1 = \"Train classification report\"\n",
    "    msg_2 = \"Test classification report\"\n",
    "    msg_3 = \"%s -> cross_val_score for train accuracy using cv=5: %f\" % (model, crossv_results.mean())\n",
    "    \n",
    "    print(msg)\n",
    "    print(msg_1)\n",
    "    print(classification_report(yc_train_resampled, model_created.predict(Xc_train_resampled)))\n",
    "    print(msg)\n",
    "    print(msg_2)\n",
    "    print(classification_report(yc_test, model_created.predict(Xc_test)))\n",
    "    print(msg_3)\n",
    "    print(f\"Time taken is {time_taken} seconds\")\n",
    "    print(\"========================================================================\")\n",
    "    "
   ]
  },
  {
   "cell_type": "code",
   "execution_count": 32,
   "id": "1baf40c0",
   "metadata": {},
   "outputs": [],
   "source": [
    "all_models_cluster = list(zip(model_name,train_acc_results,test_acc_results,train_cv_acc_results,time_data))\n",
    "\n",
    "models_df_cluster = pd.DataFrame(all_models_cluster).rename(columns={0:\"Model\",1:\"Train_accuracy_score\",2: 'Test_accuracy_score',3:\"Train_crossval_accuracy_score\",4:\"Time_taken_to_complete (in secs)\"})"
   ]
  },
  {
   "cell_type": "code",
   "execution_count": 33,
   "id": "80ab21d7",
   "metadata": {},
   "outputs": [
    {
     "data": {
      "text/html": [
       "<div>\n",
       "<style scoped>\n",
       "    .dataframe tbody tr th:only-of-type {\n",
       "        vertical-align: middle;\n",
       "    }\n",
       "\n",
       "    .dataframe tbody tr th {\n",
       "        vertical-align: top;\n",
       "    }\n",
       "\n",
       "    .dataframe thead th {\n",
       "        text-align: right;\n",
       "    }\n",
       "</style>\n",
       "<table border=\"1\" class=\"dataframe\">\n",
       "  <thead>\n",
       "    <tr style=\"text-align: right;\">\n",
       "      <th></th>\n",
       "      <th>Model</th>\n",
       "      <th>Train_accuracy_score</th>\n",
       "      <th>Test_accuracy_score</th>\n",
       "      <th>Train_crossval_accuracy_score</th>\n",
       "      <th>Time_taken_to_complete (in secs)</th>\n",
       "    </tr>\n",
       "  </thead>\n",
       "  <tbody>\n",
       "    <tr>\n",
       "      <th>0</th>\n",
       "      <td>LogisticRegression</td>\n",
       "      <td>1.0</td>\n",
       "      <td>0.954545</td>\n",
       "      <td>0.988235</td>\n",
       "      <td>0.051586</td>\n",
       "    </tr>\n",
       "    <tr>\n",
       "      <th>1</th>\n",
       "      <td>DecisionTree</td>\n",
       "      <td>1.0</td>\n",
       "      <td>0.909091</td>\n",
       "      <td>0.964706</td>\n",
       "      <td>0.023965</td>\n",
       "    </tr>\n",
       "    <tr>\n",
       "      <th>2</th>\n",
       "      <td>RandomForest</td>\n",
       "      <td>1.0</td>\n",
       "      <td>0.909091</td>\n",
       "      <td>1.000000</td>\n",
       "      <td>0.959055</td>\n",
       "    </tr>\n",
       "    <tr>\n",
       "      <th>3</th>\n",
       "      <td>BaggingDecisionTree</td>\n",
       "      <td>1.0</td>\n",
       "      <td>0.909091</td>\n",
       "      <td>0.964706</td>\n",
       "      <td>0.140025</td>\n",
       "    </tr>\n",
       "  </tbody>\n",
       "</table>\n",
       "</div>"
      ],
      "text/plain": [
       "                 Model  Train_accuracy_score  Test_accuracy_score  \\\n",
       "0   LogisticRegression                   1.0             0.954545   \n",
       "1         DecisionTree                   1.0             0.909091   \n",
       "2         RandomForest                   1.0             0.909091   \n",
       "3  BaggingDecisionTree                   1.0             0.909091   \n",
       "\n",
       "   Train_crossval_accuracy_score  Time_taken_to_complete (in secs)  \n",
       "0                       0.988235                          0.051586  \n",
       "1                       0.964706                          0.023965  \n",
       "2                       1.000000                          0.959055  \n",
       "3                       0.964706                          0.140025  "
      ]
     },
     "execution_count": 33,
     "metadata": {},
     "output_type": "execute_result"
    }
   ],
   "source": [
    "# Performance of using unsupervised learning for the labelling\n",
    "models_df_cluster"
   ]
  },
  {
   "cell_type": "markdown",
   "id": "509b36ba",
   "metadata": {},
   "source": [
    "Based on the model performance of adopting unsupervised learning in assigning the labels, we can see that the models perform decently with most metrics exceeding 0.9."
   ]
  },
  {
   "cell_type": "code",
   "execution_count": 34,
   "id": "4020a071",
   "metadata": {},
   "outputs": [
    {
     "data": {
      "text/html": [
       "<div>\n",
       "<style scoped>\n",
       "    .dataframe tbody tr th:only-of-type {\n",
       "        vertical-align: middle;\n",
       "    }\n",
       "\n",
       "    .dataframe tbody tr th {\n",
       "        vertical-align: top;\n",
       "    }\n",
       "\n",
       "    .dataframe thead th {\n",
       "        text-align: right;\n",
       "    }\n",
       "</style>\n",
       "<table border=\"1\" class=\"dataframe\">\n",
       "  <thead>\n",
       "    <tr style=\"text-align: right;\">\n",
       "      <th></th>\n",
       "      <th>Model</th>\n",
       "      <th>Train_accuracy_score</th>\n",
       "      <th>Test_accuracy_score</th>\n",
       "      <th>Train_crossval_accuracy_score</th>\n",
       "      <th>Time_taken_to_complete (in secs)</th>\n",
       "    </tr>\n",
       "  </thead>\n",
       "  <tbody>\n",
       "    <tr>\n",
       "      <th>0</th>\n",
       "      <td>LogisticRegression</td>\n",
       "      <td>0.77027</td>\n",
       "      <td>0.863636</td>\n",
       "      <td>0.664762</td>\n",
       "      <td>0.063566</td>\n",
       "    </tr>\n",
       "    <tr>\n",
       "      <th>1</th>\n",
       "      <td>DecisionTree</td>\n",
       "      <td>1.00000</td>\n",
       "      <td>1.000000</td>\n",
       "      <td>0.946667</td>\n",
       "      <td>0.034819</td>\n",
       "    </tr>\n",
       "    <tr>\n",
       "      <th>2</th>\n",
       "      <td>RandomForest</td>\n",
       "      <td>1.00000</td>\n",
       "      <td>1.000000</td>\n",
       "      <td>0.933333</td>\n",
       "      <td>1.525122</td>\n",
       "    </tr>\n",
       "    <tr>\n",
       "      <th>3</th>\n",
       "      <td>BaggingDecisionTree</td>\n",
       "      <td>1.00000</td>\n",
       "      <td>1.000000</td>\n",
       "      <td>0.920000</td>\n",
       "      <td>0.220255</td>\n",
       "    </tr>\n",
       "  </tbody>\n",
       "</table>\n",
       "</div>"
      ],
      "text/plain": [
       "                 Model  Train_accuracy_score  Test_accuracy_score  \\\n",
       "0   LogisticRegression               0.77027             0.863636   \n",
       "1         DecisionTree               1.00000             1.000000   \n",
       "2         RandomForest               1.00000             1.000000   \n",
       "3  BaggingDecisionTree               1.00000             1.000000   \n",
       "\n",
       "   Train_crossval_accuracy_score  Time_taken_to_complete (in secs)  \n",
       "0                       0.664762                          0.063566  \n",
       "1                       0.946667                          0.034819  \n",
       "2                       0.933333                          1.525122  \n",
       "3                       0.920000                          0.220255  "
      ]
     },
     "execution_count": 34,
     "metadata": {},
     "output_type": "execute_result"
    }
   ],
   "source": [
    "# Performance of using rule-based manual labelling\n",
    "models_df"
   ]
  },
  {
   "cell_type": "markdown",
   "id": "c785a6ed",
   "metadata": {},
   "source": [
    "Based on the model performance, rule-based manual labelling performs better on unseen data based on the test accuracy scores."
   ]
  }
 ],
 "metadata": {
  "kernelspec": {
   "display_name": "Python 3 (ipykernel)",
   "language": "python",
   "name": "python3"
  },
  "language_info": {
   "codemirror_mode": {
    "name": "ipython",
    "version": 3
   },
   "file_extension": ".py",
   "mimetype": "text/x-python",
   "name": "python",
   "nbconvert_exporter": "python",
   "pygments_lexer": "ipython3",
   "version": "3.10.9"
  }
 },
 "nbformat": 4,
 "nbformat_minor": 5
}
