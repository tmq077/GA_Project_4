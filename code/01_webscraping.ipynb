{
 "cells": [
  {
   "cell_type": "markdown",
   "id": "d1d55622",
   "metadata": {},
   "source": [
    "<img src=\"http://imgur.com/1ZcRyrc.png\" style=\"float: left; margin: 20px; height: 55px\">\n",
    "\n",
    "# Project 4: Snack-O-Meter: a tool to inform consumers on consumption of biscuits"
   ]
  },
  {
   "cell_type": "markdown",
   "id": "07b53c27",
   "metadata": {},
   "source": [
    "# Content Page"
   ]
  },
  {
   "cell_type": "markdown",
   "id": "77d1edde",
   "metadata": {},
   "source": [
    "1. [Webscraping for data](01_webscraping.ipynb)\n",
    "2. [Data cleaning](02_cleaning.ipynb)\n",
    "3. [EDA](03_eda.ipynb)\n",
    "4. [Data Modelling](04_modelling.ipynb)"
   ]
  },
  {
   "cell_type": "markdown",
   "id": "6c47e42e",
   "metadata": {},
   "source": [
    "## Problem Statement"
   ]
  },
  {
   "cell_type": "markdown",
   "id": "0ebcc6de",
   "metadata": {},
   "source": [
    "The National Health Population Survey highlighted various actions to improve Singaporean health. The focus of our project will be on eating healthier. \n",
    "\n",
    "Several measures has been implemented to encourage healthy eating. This includes the Nutri-Grade labeling for beverages, which focuses on sugar and saturated fat, which has shifted consumption and led to reduction in sugar intake. More recently, Singapore has also shared that it is studying possible regulatory measures to reduce sodium content in food dishes. However, the nutritional values in snacks has not been widely discussed and this is the gap we are targeting to cover. \n",
    "\n",
    "While all snacks should be considered, biscuit is used as the initial proof-of-concept due to its popularity, where 57% of respondents of a survey has purchased biscuits over other snacks (https://www.statista.com/statistics/1341575/singapore-most-bought-sweet-snacks-in-the-past-week/). The objective of the project is to build a user-friendly tool that can inform if a biscuit is healthy or not, helping consumers make healthier choices. "
   ]
  },
  {
   "cell_type": "markdown",
   "id": "7036633c",
   "metadata": {},
   "source": [
    "## Webscraping"
   ]
  },
  {
   "cell_type": "code",
   "execution_count": 1,
   "id": "961a73d5",
   "metadata": {},
   "outputs": [],
   "source": [
    "import requests\n",
    "import re\n",
    "import pandas as pd\n",
    "from bs4 import BeautifulSoup\n",
    "from urllib.parse import urljoin"
   ]
  },
  {
   "cell_type": "markdown",
   "id": "480ab652",
   "metadata": {},
   "source": [
    "A list of URLs of individual products from Fairprice website is manually collated in Excel for subsequent webscraping."
   ]
  },
  {
   "cell_type": "code",
   "execution_count": 2,
   "id": "cc0c8191",
   "metadata": {},
   "outputs": [],
   "source": [
    "url_df = pd.read_csv(\"../url/url_cookie.csv\")"
   ]
  },
  {
   "cell_type": "code",
   "execution_count": 3,
   "id": "961c524e",
   "metadata": {
    "scrolled": true
   },
   "outputs": [
    {
     "data": {
      "text/html": [
       "<div>\n",
       "<style scoped>\n",
       "    .dataframe tbody tr th:only-of-type {\n",
       "        vertical-align: middle;\n",
       "    }\n",
       "\n",
       "    .dataframe tbody tr th {\n",
       "        vertical-align: top;\n",
       "    }\n",
       "\n",
       "    .dataframe thead th {\n",
       "        text-align: right;\n",
       "    }\n",
       "</style>\n",
       "<table border=\"1\" class=\"dataframe\">\n",
       "  <thead>\n",
       "    <tr style=\"text-align: right;\">\n",
       "      <th></th>\n",
       "      <th>url</th>\n",
       "    </tr>\n",
       "  </thead>\n",
       "  <tbody>\n",
       "    <tr>\n",
       "      <th>0</th>\n",
       "      <td>https://www.fairprice.com.sg/product/beryl-s-c...</td>\n",
       "    </tr>\n",
       "    <tr>\n",
       "      <th>1</th>\n",
       "      <td>https://www.fairprice.com.sg/product/beryl-s-c...</td>\n",
       "    </tr>\n",
       "    <tr>\n",
       "      <th>2</th>\n",
       "      <td>https://www.fairprice.com.sg/product/beryl-s-c...</td>\n",
       "    </tr>\n",
       "    <tr>\n",
       "      <th>3</th>\n",
       "      <td>https://www.fairprice.com.sg/product/beryl-s-s...</td>\n",
       "    </tr>\n",
       "    <tr>\n",
       "      <th>4</th>\n",
       "      <td>https://www.fairprice.com.sg/product/beryl-s-c...</td>\n",
       "    </tr>\n",
       "  </tbody>\n",
       "</table>\n",
       "</div>"
      ],
      "text/plain": [
       "                                                 url\n",
       "0  https://www.fairprice.com.sg/product/beryl-s-c...\n",
       "1  https://www.fairprice.com.sg/product/beryl-s-c...\n",
       "2  https://www.fairprice.com.sg/product/beryl-s-c...\n",
       "3  https://www.fairprice.com.sg/product/beryl-s-s...\n",
       "4  https://www.fairprice.com.sg/product/beryl-s-c..."
      ]
     },
     "execution_count": 3,
     "metadata": {},
     "output_type": "execute_result"
    }
   ],
   "source": [
    "url_df.head()"
   ]
  },
  {
   "cell_type": "code",
   "execution_count": 3,
   "id": "e79b20f3",
   "metadata": {},
   "outputs": [
    {
     "name": "stdout",
     "output_type": "stream",
     "text": [
      "<class 'pandas.core.frame.DataFrame'>\n",
      "RangeIndex: 22 entries, 0 to 21\n",
      "Data columns (total 1 columns):\n",
      " #   Column  Non-Null Count  Dtype \n",
      "---  ------  --------------  ----- \n",
      " 0   url     22 non-null     object\n",
      "dtypes: object(1)\n",
      "memory usage: 304.0+ bytes\n"
     ]
    }
   ],
   "source": [
    "url_df.info()"
   ]
  },
  {
   "cell_type": "code",
   "execution_count": 4,
   "id": "6b163b26",
   "metadata": {},
   "outputs": [],
   "source": [
    "url_list = []\n",
    "\n",
    "for i in range(len(url_df)):\n",
    "    url_list.append(url_df['url'][i])\n",
    "    "
   ]
  },
  {
   "cell_type": "code",
   "execution_count": 5,
   "id": "9b235f3a",
   "metadata": {},
   "outputs": [
    {
     "data": {
      "text/plain": [
       "22"
      ]
     },
     "execution_count": 5,
     "metadata": {},
     "output_type": "execute_result"
    }
   ],
   "source": [
    "len(url_list)"
   ]
  },
  {
   "cell_type": "code",
   "execution_count": 6,
   "id": "b1cb1edb",
   "metadata": {},
   "outputs": [
    {
     "data": {
      "text/plain": [
       "['https://www.fairprice.com.sg/product/beryl-s-chocolate-orange-cashew-nuts-cookies-95-g-90054476',\n",
       " 'https://www.fairprice.com.sg/product/beryl-s-coconut-sable-with-macadamia-nuts-95-g-90056744',\n",
       " 'https://www.fairprice.com.sg/product/beryl-s-cookies-chocolate-sable-180-g-90040649',\n",
       " 'https://www.fairprice.com.sg/product/beryl-s-strawberry-sable-95-g-90053941',\n",
       " 'https://www.fairprice.com.sg/product/beryl-s-cookies-exquisite-selection-tin-216-g-90040652',\n",
       " 'https://www.fairprice.com.sg/product/chipsmore-cookies-multipack-original-224g-13162989',\n",
       " 'https://www.fairprice.com.sg/product/chipsmore-cookies-multipack-double-chocolate-224g-13162990',\n",
       " 'https://www.fairprice.com.sg/product/fuel10k-double-chocolate-high-protein-oat-cookie-50-g-90158283',\n",
       " 'https://www.fairprice.com.sg/product/jules-destrooper-biscuits-belgian-chocolate-thins-100g-11093580',\n",
       " 'https://www.fairprice.com.sg/product/julie-s-oat-25-cookies-hazelnuts-chocolate-chips-200g-13054342',\n",
       " 'https://www.fairprice.com.sg/product/lee-chococolate-chips-2-x-90022788',\n",
       " 'https://www.fairprice.com.sg/product/marks-spencer-belgian-white-chocolate-chunk-cookies-200-g-90154035',\n",
       " 'https://www.fairprice.com.sg/product/marks-spencer-mini-chocolate-chip-cookie-bags-6-x-18g-90154041',\n",
       " 'https://www.fairprice.com.sg/product/marks-spencer-triple-belgian-chocolate-chunk-cookies-200-g-90154031',\n",
       " 'https://www.fairprice.com.sg/product/munchy-s-oat-krunch-crackers-dark-chocolate-208g-8-per-pack-13084525',\n",
       " 'https://www.fairprice.com.sg/product/munchy-s-oat-krunch-nutty-chocolate-15-per-pack-13101949',\n",
       " 'https://www.fairprice.com.sg/product/pasta-natura-organic-chocolate-chips-biscuits-gluten-free-250-g-90114360',\n",
       " 'https://www.fairprice.com.sg/product/pasta-natura-organic-cocoa-and-hazelnuts-biscuits-gluten-free-250-g-90114359',\n",
       " 'https://www.fairprice.com.sg/product/serious-food-company-serious-cookies-chewy-chocolate-chip-170-g-90034214',\n",
       " 'https://www.fairprice.com.sg/product/quaker-oatmeal-cookies-chocolate-chip-6s-x-27g-13040299',\n",
       " 'https://www.fairprice.com.sg/product/sanwa-oat-nutrition-choco-454g-13064193',\n",
       " 'https://www.fairprice.com.sg/product/serious-food-company-serious-cookies-white-choc-macadamia-170-g-90095068']"
      ]
     },
     "execution_count": 6,
     "metadata": {},
     "output_type": "execute_result"
    }
   ],
   "source": [
    "url_list"
   ]
  },
  {
   "cell_type": "code",
   "execution_count": 7,
   "id": "81528c35",
   "metadata": {},
   "outputs": [],
   "source": [
    "df = pd.DataFrame()\n",
    "\n",
    "final_df = pd.DataFrame()\n",
    "\n",
    "while len(final_df)<31:\n",
    "    \n",
    "    final_df = pd.DataFrame()\n",
    "\n",
    "    for link in url_list:\n",
    "        #print(link)\n",
    "        URL = link\n",
    "        page = requests.get(URL)\n",
    "        soup = BeautifulSoup(page.content, \"html.parser\")\n",
    "        nutri_info = soup.find_all('span', mode=\"light\")\n",
    "        nutri_list = list(nutri_info)\n",
    "    \n",
    "        nutri_names = []\n",
    "        nutri_values = []\n",
    "\n",
    "        for i in range(len(nutri_list)):\n",
    "            if i%2 == 0:\n",
    "                nutri_names.append(nutri_list[i])\n",
    "            else:\n",
    "                nutri_values.append(nutri_list[i])\n",
    "    \n",
    "        title_full = soup.title\n",
    "        title = re.findall(r'\\>([A-z0-9 -?%?]+)\\<',str(title_full))\n",
    "        \n",
    "        weight_info = soup.find_all('span', attrs={'class':'sc-aa673588-1 sc-d5ac8310-3 kZssPC jGBApJ'})\n",
    "        weight = re.findall(r'\\>([A-z0-9 x?-?]+)\\<',str(weight_info))\n",
    "        \n",
    "        avg_rating = soup.find_all('span', attrs={'class':'sc-6fe931dc-4 gnxVUm pdp'})\n",
    "        avg_rating_value = re.findall(r'\\>([0-9.?]+)\\<', str(avg_rating))\n",
    "\n",
    "\n",
    "        nutri_names_only = re.findall(r'\\>([A-z0-9. ()]+)\\s?\\<', str(nutri_names))\n",
    "        #print(nutri_names_only)\n",
    "        nutri_values_only = re.findall(r'\\>([A-z0-9. ()]+)\\s?\\<', str(nutri_values))\n",
    "        #print(nutri_values_only)\n",
    "    \n",
    "        data = zip(nutri_names_only, nutri_values_only)\n",
    "        data_list = list(data)\n",
    "    \n",
    "        try: \n",
    "            df_interim = pd.DataFrame(data_list)\n",
    "            df_interim.columns = [['names','values']]\n",
    "            df_interim = df_interim.set_index(['names'])\n",
    "            df_transpose = df_interim.T\n",
    "            df_transpose['product'] = title\n",
    "            df_transpose['weight'] = weight\n",
    "            df_transpose['rating'] = avg_rating_value\n",
    "            df_transpose.reset_index(drop=True, inplace = True)\n",
    "            df_transpose = df_transpose.set_index(['product'])\n",
    "    \n",
    "            #display(df_transpose.head())\n",
    "    \n",
    "            df = pd.concat([df,df_transpose])\n",
    "        except:\n",
    "            continue\n",
    "        \n",
    "    final_df = df.reset_index()\n",
    "    \n",
    "    "
   ]
  },
  {
   "cell_type": "code",
   "execution_count": 8,
   "id": "184446ee",
   "metadata": {},
   "outputs": [],
   "source": [
    "final_df['type'] = \"cookie\"\n",
    "final_df = final_df.drop_duplicates()"
   ]
  },
  {
   "cell_type": "code",
   "execution_count": 10,
   "id": "3aeb203b",
   "metadata": {},
   "outputs": [
    {
     "data": {
      "text/html": [
       "<div>\n",
       "<style scoped>\n",
       "    .dataframe tbody tr th:only-of-type {\n",
       "        vertical-align: middle;\n",
       "    }\n",
       "\n",
       "    .dataframe tbody tr th {\n",
       "        vertical-align: top;\n",
       "    }\n",
       "\n",
       "    .dataframe thead th {\n",
       "        text-align: right;\n",
       "    }\n",
       "</style>\n",
       "<table border=\"1\" class=\"dataframe\">\n",
       "  <thead>\n",
       "    <tr style=\"text-align: right;\">\n",
       "      <th>names</th>\n",
       "      <th>product</th>\n",
       "      <th>(Attributes,)</th>\n",
       "      <th>(Protein,)</th>\n",
       "      <th>(Carbohydrate,)</th>\n",
       "      <th>(Sugars,)</th>\n",
       "      <th>(Fats,)</th>\n",
       "      <th>(Energy,)</th>\n",
       "      <th>weight</th>\n",
       "      <th>rating</th>\n",
       "      <th>(Total Fat,)</th>\n",
       "      <th>(Sodium,)</th>\n",
       "      <th>(Cholesterol,)</th>\n",
       "      <th>(Saturated Fat,)</th>\n",
       "      <th>(Trans Fat,)</th>\n",
       "      <th>(Monounsaturated Fat,)</th>\n",
       "      <th>(Polyunsaturated Fat,)</th>\n",
       "      <th>(Dietary Fibre,)</th>\n",
       "      <th>(Soluble Fibre,)</th>\n",
       "      <th>(Insoluble Fibre,)</th>\n",
       "      <th>type</th>\n",
       "    </tr>\n",
       "  </thead>\n",
       "  <tbody>\n",
       "    <tr>\n",
       "      <th>0</th>\n",
       "      <td>Beryl's Cookies Exquisite Selection (Tin)</td>\n",
       "      <td>Per Serving (1.7g)</td>\n",
       "      <td>1.7g</td>\n",
       "      <td>11.7g</td>\n",
       "      <td>5.0g</td>\n",
       "      <td>4.0g</td>\n",
       "      <td>378kj</td>\n",
       "      <td>216 G</td>\n",
       "      <td>4.8</td>\n",
       "      <td>NaN</td>\n",
       "      <td>NaN</td>\n",
       "      <td>NaN</td>\n",
       "      <td>NaN</td>\n",
       "      <td>NaN</td>\n",
       "      <td>NaN</td>\n",
       "      <td>NaN</td>\n",
       "      <td>NaN</td>\n",
       "      <td>NaN</td>\n",
       "      <td>NaN</td>\n",
       "      <td>cookie</td>\n",
       "    </tr>\n",
       "    <tr>\n",
       "      <th>1</th>\n",
       "      <td>Chipsmore Cookies Multipack - Original</td>\n",
       "      <td>Per Serving (28g)</td>\n",
       "      <td>1.5g</td>\n",
       "      <td>19.4g</td>\n",
       "      <td>8.5g</td>\n",
       "      <td>NaN</td>\n",
       "      <td>137kcal</td>\n",
       "      <td>224g</td>\n",
       "      <td>4.3</td>\n",
       "      <td>6g</td>\n",
       "      <td>98mg</td>\n",
       "      <td>NaN</td>\n",
       "      <td>NaN</td>\n",
       "      <td>NaN</td>\n",
       "      <td>NaN</td>\n",
       "      <td>NaN</td>\n",
       "      <td>NaN</td>\n",
       "      <td>NaN</td>\n",
       "      <td>NaN</td>\n",
       "      <td>cookie</td>\n",
       "    </tr>\n",
       "    <tr>\n",
       "      <th>2</th>\n",
       "      <td>Munchy's Oat Krunch - Nutty Chocolate</td>\n",
       "      <td>Per Serving (120kcal)</td>\n",
       "      <td>2g</td>\n",
       "      <td>17g</td>\n",
       "      <td>NaN</td>\n",
       "      <td>NaN</td>\n",
       "      <td>NaN</td>\n",
       "      <td>15 per pack</td>\n",
       "      <td>4.6</td>\n",
       "      <td>5g</td>\n",
       "      <td>50mg</td>\n",
       "      <td>0g</td>\n",
       "      <td>2.5g</td>\n",
       "      <td>0g</td>\n",
       "      <td>NaN</td>\n",
       "      <td>NaN</td>\n",
       "      <td>NaN</td>\n",
       "      <td>NaN</td>\n",
       "      <td>NaN</td>\n",
       "      <td>cookie</td>\n",
       "    </tr>\n",
       "    <tr>\n",
       "      <th>4</th>\n",
       "      <td>Chipsmore Cookies Multipack - Double Chocolate</td>\n",
       "      <td>Per Serving (28g)</td>\n",
       "      <td>1.6g</td>\n",
       "      <td>19.4g</td>\n",
       "      <td>8.5g</td>\n",
       "      <td>NaN</td>\n",
       "      <td>135kcal</td>\n",
       "      <td>224g</td>\n",
       "      <td>4.3</td>\n",
       "      <td>5.9g</td>\n",
       "      <td>94mg</td>\n",
       "      <td>NaN</td>\n",
       "      <td>NaN</td>\n",
       "      <td>NaN</td>\n",
       "      <td>NaN</td>\n",
       "      <td>NaN</td>\n",
       "      <td>NaN</td>\n",
       "      <td>NaN</td>\n",
       "      <td>NaN</td>\n",
       "      <td>cookie</td>\n",
       "    </tr>\n",
       "    <tr>\n",
       "      <th>5</th>\n",
       "      <td>Quaker Oats Cookies - Chocolate Chip</td>\n",
       "      <td>Per Serving (27g)</td>\n",
       "      <td>2g</td>\n",
       "      <td>19g</td>\n",
       "      <td>9g</td>\n",
       "      <td>NaN</td>\n",
       "      <td>126.4kcal</td>\n",
       "      <td>6 x 27g</td>\n",
       "      <td>4.3</td>\n",
       "      <td>4.7g</td>\n",
       "      <td>122.2mg</td>\n",
       "      <td>1.5mg</td>\n",
       "      <td>2.3g</td>\n",
       "      <td>0g</td>\n",
       "      <td>1.5g</td>\n",
       "      <td>0.7g</td>\n",
       "      <td>1.1g</td>\n",
       "      <td>0.2g</td>\n",
       "      <td>0.8g</td>\n",
       "      <td>cookie</td>\n",
       "    </tr>\n",
       "  </tbody>\n",
       "</table>\n",
       "</div>"
      ],
      "text/plain": [
       "names                                         product          (Attributes,)  \\\n",
       "0           Beryl's Cookies Exquisite Selection (Tin)     Per Serving (1.7g)   \n",
       "1              Chipsmore Cookies Multipack - Original      Per Serving (28g)   \n",
       "2               Munchy's Oat Krunch - Nutty Chocolate  Per Serving (120kcal)   \n",
       "4      Chipsmore Cookies Multipack - Double Chocolate      Per Serving (28g)   \n",
       "5                Quaker Oats Cookies - Chocolate Chip      Per Serving (27g)   \n",
       "\n",
       "names (Protein,) (Carbohydrate,) (Sugars,) (Fats,)  (Energy,)       weight  \\\n",
       "0           1.7g           11.7g      5.0g    4.0g      378kj        216 G   \n",
       "1           1.5g           19.4g      8.5g     NaN    137kcal         224g   \n",
       "2             2g             17g       NaN     NaN        NaN  15 per pack   \n",
       "4           1.6g           19.4g      8.5g     NaN    135kcal         224g   \n",
       "5             2g             19g        9g     NaN  126.4kcal      6 x 27g   \n",
       "\n",
       "names rating (Total Fat,) (Sodium,) (Cholesterol,) (Saturated Fat,)  \\\n",
       "0        4.8          NaN       NaN            NaN              NaN   \n",
       "1        4.3           6g      98mg            NaN              NaN   \n",
       "2        4.6           5g      50mg             0g             2.5g   \n",
       "4        4.3         5.9g      94mg            NaN              NaN   \n",
       "5        4.3         4.7g   122.2mg          1.5mg             2.3g   \n",
       "\n",
       "names (Trans Fat,) (Monounsaturated Fat,) (Polyunsaturated Fat,)  \\\n",
       "0              NaN                    NaN                    NaN   \n",
       "1              NaN                    NaN                    NaN   \n",
       "2               0g                    NaN                    NaN   \n",
       "4              NaN                    NaN                    NaN   \n",
       "5               0g                   1.5g                   0.7g   \n",
       "\n",
       "names (Dietary Fibre,) (Soluble Fibre,) (Insoluble Fibre,)    type  \n",
       "0                  NaN              NaN                NaN  cookie  \n",
       "1                  NaN              NaN                NaN  cookie  \n",
       "2                  NaN              NaN                NaN  cookie  \n",
       "4                  NaN              NaN                NaN  cookie  \n",
       "5                 1.1g             0.2g               0.8g  cookie  "
      ]
     },
     "execution_count": 10,
     "metadata": {},
     "output_type": "execute_result"
    }
   ],
   "source": [
    "final_df.head()"
   ]
  },
  {
   "cell_type": "code",
   "execution_count": 11,
   "id": "e491e433",
   "metadata": {},
   "outputs": [],
   "source": [
    "final_df.to_csv(\"../data/cookie.csv\")"
   ]
  },
  {
   "cell_type": "markdown",
   "id": "2850ce8e",
   "metadata": {},
   "source": [
    "The above steps is repeated for:\n",
    "\n",
    "- crackers\n",
    "<br>url_df = pd.read_csv(\"../url/url_crackers.csv\")\n",
    "<br>final_df['type'] = \"crackers\"\n",
    "<br>final_df.to_csv(\"../data1/crackers.csv\")\n",
    "<br>\n",
    "\n",
    "- cream\n",
    "<br>url_df = pd.read_csv(\"../url/url_cream.csv\")\n",
    "<br>final_df['type'] = \"cream\"\n",
    "<br>final_df.to_csv(\"../data1/cream.csv\")\n",
    "<br>\n",
    "\n",
    "- wafer\n",
    "<br>url_df = pd.read_csv(\"../url/url_wafer.csv\")\n",
    "<br>final_df['type'] = \"wafer\"\n",
    "<br>final_df.to_csv(\"../data1/wafer.csv\")"
   ]
  },
  {
   "cell_type": "markdown",
   "id": "b4603b97",
   "metadata": {},
   "source": [
    "[Click for data cleaning](02_cleaning.ipynb)"
   ]
  }
 ],
 "metadata": {
  "kernelspec": {
   "display_name": "Python 3 (ipykernel)",
   "language": "python",
   "name": "python3"
  },
  "language_info": {
   "codemirror_mode": {
    "name": "ipython",
    "version": 3
   },
   "file_extension": ".py",
   "mimetype": "text/x-python",
   "name": "python",
   "nbconvert_exporter": "python",
   "pygments_lexer": "ipython3",
   "version": "3.10.9"
  }
 },
 "nbformat": 4,
 "nbformat_minor": 5
}
