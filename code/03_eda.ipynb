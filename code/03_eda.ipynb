{
 "cells": [
  {
   "cell_type": "markdown",
   "id": "bd3a24b3",
   "metadata": {},
   "source": [
    "<img src=\"http://imgur.com/1ZcRyrc.png\" style=\"float: left; margin: 20px; height: 55px\">\n",
    "\n",
    "# Project 4: Snack-O-Meter: a tool to inform consumers on consumption of biscuits"
   ]
  },
  {
   "cell_type": "markdown",
   "id": "ba52b331",
   "metadata": {},
   "source": [
    "# Content Page"
   ]
  },
  {
   "cell_type": "markdown",
   "id": "2fc1ce5c",
   "metadata": {},
   "source": [
    "1. [Webscraping for data](01_webscraping.ipynb)\n",
    "2. [Data cleaning](02_cleaning.ipynb)\n",
    "3. [EDA](03_eda.ipynb)\n",
    "4. [Data Modelling](04_modelling.ipynb)"
   ]
  },
  {
   "cell_type": "markdown",
   "id": "dcf0c0d8",
   "metadata": {},
   "source": [
    "## Data Dictionary"
   ]
  },
  {
   "cell_type": "markdown",
   "id": "aa7c8f76",
   "metadata": {},
   "source": [
    "|Feature|Type|Description|\n",
    "|---|---|:---|\n",
    "|**type**|*string*|Subcategory of Biscuit<br>cookie: chocolate cookie<br>cracker<br>cream: creamed & filled biscuit<br>wafers|\n",
    "|**product**|*string*|Name of product|\n",
    "|**per_serving_g**|*int64*|Size of serving per one gram (gram)|\n",
    "|**total_fat_g_per_gram_of_serving**|*int64*|Total fats per gram of serving (gram)|\n",
    "|**sugars_g_per_gram_of_serving**|*int64*|Sugars per gram of serving (gram)|\n",
    "|**sodium_g_per_gram_of_serving**|*int64*|Sodium per gram of serving (gram)|"
   ]
  },
  {
   "cell_type": "markdown",
   "id": "a07b8f48",
   "metadata": {},
   "source": [
    "## EDA"
   ]
  },
  {
   "cell_type": "code",
   "execution_count": 3,
   "id": "89848046",
   "metadata": {},
   "outputs": [],
   "source": [
    "import pandas as pd\n",
    "import numpy as np\n",
    "import matplotlib.pyplot as plt\n",
    "import seaborn as sns"
   ]
  },
  {
   "cell_type": "code",
   "execution_count": 4,
   "id": "45380961",
   "metadata": {},
   "outputs": [],
   "source": [
    "# Set the display option to show all columns and rows\n",
    "pd.set_option('display.max_columns', None)\n",
    "pd.set_option('display.max_rows', None)\n",
    "pd.set_option('max_colwidth', None)"
   ]
  },
  {
   "cell_type": "code",
   "execution_count": 5,
   "id": "a7baf005",
   "metadata": {},
   "outputs": [
    {
     "data": {
      "text/html": [
       "<div>\n",
       "<style scoped>\n",
       "    .dataframe tbody tr th:only-of-type {\n",
       "        vertical-align: middle;\n",
       "    }\n",
       "\n",
       "    .dataframe tbody tr th {\n",
       "        vertical-align: top;\n",
       "    }\n",
       "\n",
       "    .dataframe thead th {\n",
       "        text-align: right;\n",
       "    }\n",
       "</style>\n",
       "<table border=\"1\" class=\"dataframe\">\n",
       "  <thead>\n",
       "    <tr style=\"text-align: right;\">\n",
       "      <th></th>\n",
       "      <th>type</th>\n",
       "      <th>product</th>\n",
       "      <th>per_serving_g</th>\n",
       "      <th>total_fat_g</th>\n",
       "      <th>sugars_g</th>\n",
       "      <th>sodium_g</th>\n",
       "      <th>total_fat_g_per_gram_of_serving</th>\n",
       "      <th>sugars_g_per_gram_of_serving</th>\n",
       "      <th>sodium_g_per_gram_of_serving</th>\n",
       "    </tr>\n",
       "  </thead>\n",
       "  <tbody>\n",
       "    <tr>\n",
       "      <th>44</th>\n",
       "      <td>cream</td>\n",
       "      <td>Cowhead Sandwich Crackers with Calcium - Cheese</td>\n",
       "      <td>24.0</td>\n",
       "      <td>6.0</td>\n",
       "      <td>4.0</td>\n",
       "      <td>0.140</td>\n",
       "      <td>0.250000</td>\n",
       "      <td>0.166667</td>\n",
       "      <td>0.005833</td>\n",
       "    </tr>\n",
       "    <tr>\n",
       "      <th>58</th>\n",
       "      <td>cream</td>\n",
       "      <td>Lotus Biscoff Biscuits - Milk Chocolate</td>\n",
       "      <td>100.0</td>\n",
       "      <td>24.0</td>\n",
       "      <td>40.0</td>\n",
       "      <td>0.325</td>\n",
       "      <td>0.240000</td>\n",
       "      <td>0.400000</td>\n",
       "      <td>0.003250</td>\n",
       "    </tr>\n",
       "    <tr>\n",
       "      <th>47</th>\n",
       "      <td>cream</td>\n",
       "      <td>Jack 'n Jill Dewberry Sandwich Biscuits - Strawberry</td>\n",
       "      <td>36.0</td>\n",
       "      <td>7.9</td>\n",
       "      <td>12.0</td>\n",
       "      <td>0.100</td>\n",
       "      <td>0.219444</td>\n",
       "      <td>0.333333</td>\n",
       "      <td>0.002778</td>\n",
       "    </tr>\n",
       "    <tr>\n",
       "      <th>1</th>\n",
       "      <td>cookie</td>\n",
       "      <td>Beryl's Coconut Sable with Macadamia Nuts</td>\n",
       "      <td>25.0</td>\n",
       "      <td>9.9</td>\n",
       "      <td>5.1</td>\n",
       "      <td>0.000</td>\n",
       "      <td>0.396000</td>\n",
       "      <td>0.204000</td>\n",
       "      <td>0.000000</td>\n",
       "    </tr>\n",
       "    <tr>\n",
       "      <th>87</th>\n",
       "      <td>wafer</td>\n",
       "      <td>Kagi Swiss Chocolate Wafer Minis - Dark</td>\n",
       "      <td>125.0</td>\n",
       "      <td>37.0</td>\n",
       "      <td>34.0</td>\n",
       "      <td>0.056</td>\n",
       "      <td>0.296000</td>\n",
       "      <td>0.272000</td>\n",
       "      <td>0.000448</td>\n",
       "    </tr>\n",
       "    <tr>\n",
       "      <th>84</th>\n",
       "      <td>wafer</td>\n",
       "      <td>Kagi Swiss Chocolate Wafer Minis - Classic</td>\n",
       "      <td>100.0</td>\n",
       "      <td>35.0</td>\n",
       "      <td>38.0</td>\n",
       "      <td>0.096</td>\n",
       "      <td>0.350000</td>\n",
       "      <td>0.380000</td>\n",
       "      <td>0.000960</td>\n",
       "    </tr>\n",
       "    <tr>\n",
       "      <th>32</th>\n",
       "      <td>cracker</td>\n",
       "      <td>Julie's Crackers - Wheat</td>\n",
       "      <td>25.0</td>\n",
       "      <td>8.0</td>\n",
       "      <td>1.0</td>\n",
       "      <td>0.160</td>\n",
       "      <td>0.320000</td>\n",
       "      <td>0.040000</td>\n",
       "      <td>0.006400</td>\n",
       "    </tr>\n",
       "    <tr>\n",
       "      <th>23</th>\n",
       "      <td>cracker</td>\n",
       "      <td>Julie's Veggie Crackers</td>\n",
       "      <td>23.0</td>\n",
       "      <td>6.0</td>\n",
       "      <td>1.0</td>\n",
       "      <td>0.140</td>\n",
       "      <td>0.260870</td>\n",
       "      <td>0.043478</td>\n",
       "      <td>0.006087</td>\n",
       "    </tr>\n",
       "    <tr>\n",
       "      <th>29</th>\n",
       "      <td>cracker</td>\n",
       "      <td>FairPrice Cream Crackers</td>\n",
       "      <td>100.0</td>\n",
       "      <td>21.5</td>\n",
       "      <td>1.6</td>\n",
       "      <td>0.367</td>\n",
       "      <td>0.215000</td>\n",
       "      <td>0.016000</td>\n",
       "      <td>0.003670</td>\n",
       "    </tr>\n",
       "    <tr>\n",
       "      <th>14</th>\n",
       "      <td>cookie</td>\n",
       "      <td>Munchy's Oat Krunch - Dark Chocolate</td>\n",
       "      <td>26.0</td>\n",
       "      <td>5.0</td>\n",
       "      <td>7.0</td>\n",
       "      <td>0.050</td>\n",
       "      <td>0.192308</td>\n",
       "      <td>0.269231</td>\n",
       "      <td>0.001923</td>\n",
       "    </tr>\n",
       "  </tbody>\n",
       "</table>\n",
       "</div>"
      ],
      "text/plain": [
       "       type                                               product  \\\n",
       "44    cream       Cowhead Sandwich Crackers with Calcium - Cheese   \n",
       "58    cream               Lotus Biscoff Biscuits - Milk Chocolate   \n",
       "47    cream  Jack 'n Jill Dewberry Sandwich Biscuits - Strawberry   \n",
       "1    cookie             Beryl's Coconut Sable with Macadamia Nuts   \n",
       "87    wafer               Kagi Swiss Chocolate Wafer Minis - Dark   \n",
       "84    wafer            Kagi Swiss Chocolate Wafer Minis - Classic   \n",
       "32  cracker                              Julie's Crackers - Wheat   \n",
       "23  cracker                               Julie's Veggie Crackers   \n",
       "29  cracker                              FairPrice Cream Crackers   \n",
       "14   cookie                  Munchy's Oat Krunch - Dark Chocolate   \n",
       "\n",
       "    per_serving_g  total_fat_g  sugars_g  sodium_g  \\\n",
       "44           24.0          6.0       4.0     0.140   \n",
       "58          100.0         24.0      40.0     0.325   \n",
       "47           36.0          7.9      12.0     0.100   \n",
       "1            25.0          9.9       5.1     0.000   \n",
       "87          125.0         37.0      34.0     0.056   \n",
       "84          100.0         35.0      38.0     0.096   \n",
       "32           25.0          8.0       1.0     0.160   \n",
       "23           23.0          6.0       1.0     0.140   \n",
       "29          100.0         21.5       1.6     0.367   \n",
       "14           26.0          5.0       7.0     0.050   \n",
       "\n",
       "    total_fat_g_per_gram_of_serving  sugars_g_per_gram_of_serving  \\\n",
       "44                         0.250000                      0.166667   \n",
       "58                         0.240000                      0.400000   \n",
       "47                         0.219444                      0.333333   \n",
       "1                          0.396000                      0.204000   \n",
       "87                         0.296000                      0.272000   \n",
       "84                         0.350000                      0.380000   \n",
       "32                         0.320000                      0.040000   \n",
       "23                         0.260870                      0.043478   \n",
       "29                         0.215000                      0.016000   \n",
       "14                         0.192308                      0.269231   \n",
       "\n",
       "    sodium_g_per_gram_of_serving  \n",
       "44                      0.005833  \n",
       "58                      0.003250  \n",
       "47                      0.002778  \n",
       "1                       0.000000  \n",
       "87                      0.000448  \n",
       "84                      0.000960  \n",
       "32                      0.006400  \n",
       "23                      0.006087  \n",
       "29                      0.003670  \n",
       "14                      0.001923  "
      ]
     },
     "execution_count": 5,
     "metadata": {},
     "output_type": "execute_result"
    }
   ],
   "source": [
    "df_final = pd.read_csv('../data/final_df.csv')\n",
    "df_final.sample(10)"
   ]
  },
  {
   "cell_type": "code",
   "execution_count": 4,
   "id": "11939209",
   "metadata": {
    "scrolled": true
   },
   "outputs": [
    {
     "data": {
      "text/html": [
       "<div>\n",
       "<style scoped>\n",
       "    .dataframe tbody tr th:only-of-type {\n",
       "        vertical-align: middle;\n",
       "    }\n",
       "\n",
       "    .dataframe tbody tr th {\n",
       "        vertical-align: top;\n",
       "    }\n",
       "\n",
       "    .dataframe thead th {\n",
       "        text-align: right;\n",
       "    }\n",
       "</style>\n",
       "<table border=\"1\" class=\"dataframe\">\n",
       "  <thead>\n",
       "    <tr style=\"text-align: right;\">\n",
       "      <th></th>\n",
       "      <th>per_serving_g</th>\n",
       "      <th>total_fat_g</th>\n",
       "      <th>sugars_g</th>\n",
       "      <th>sodium_g</th>\n",
       "      <th>total_fat_g_per_gram_of_serving</th>\n",
       "      <th>sugars_g_per_gram_of_serving</th>\n",
       "      <th>sodium_g_per_gram_of_serving</th>\n",
       "    </tr>\n",
       "  </thead>\n",
       "  <tbody>\n",
       "    <tr>\n",
       "      <th>count</th>\n",
       "      <td>88.000000</td>\n",
       "      <td>88.000000</td>\n",
       "      <td>88.000000</td>\n",
       "      <td>88.000000</td>\n",
       "      <td>88.000000</td>\n",
       "      <td>88.000000</td>\n",
       "      <td>88.000000</td>\n",
       "    </tr>\n",
       "    <tr>\n",
       "      <th>mean</th>\n",
       "      <td>58.551136</td>\n",
       "      <td>13.182955</td>\n",
       "      <td>12.968182</td>\n",
       "      <td>0.146715</td>\n",
       "      <td>0.235590</td>\n",
       "      <td>0.230701</td>\n",
       "      <td>0.003191</td>\n",
       "    </tr>\n",
       "    <tr>\n",
       "      <th>std</th>\n",
       "      <td>52.730830</td>\n",
       "      <td>9.852069</td>\n",
       "      <td>12.142729</td>\n",
       "      <td>0.117531</td>\n",
       "      <td>0.066612</td>\n",
       "      <td>0.121566</td>\n",
       "      <td>0.001977</td>\n",
       "    </tr>\n",
       "    <tr>\n",
       "      <th>min</th>\n",
       "      <td>12.000000</td>\n",
       "      <td>0.500000</td>\n",
       "      <td>0.000000</td>\n",
       "      <td>0.000000</td>\n",
       "      <td>0.041667</td>\n",
       "      <td>0.000000</td>\n",
       "      <td>0.000000</td>\n",
       "    </tr>\n",
       "    <tr>\n",
       "      <th>25%</th>\n",
       "      <td>25.000000</td>\n",
       "      <td>6.000000</td>\n",
       "      <td>4.000000</td>\n",
       "      <td>0.069500</td>\n",
       "      <td>0.200000</td>\n",
       "      <td>0.147250</td>\n",
       "      <td>0.001862</td>\n",
       "    </tr>\n",
       "    <tr>\n",
       "      <th>50%</th>\n",
       "      <td>30.000000</td>\n",
       "      <td>8.000000</td>\n",
       "      <td>7.800000</td>\n",
       "      <td>0.106500</td>\n",
       "      <td>0.240588</td>\n",
       "      <td>0.252389</td>\n",
       "      <td>0.003225</td>\n",
       "    </tr>\n",
       "    <tr>\n",
       "      <th>75%</th>\n",
       "      <td>100.000000</td>\n",
       "      <td>23.075000</td>\n",
       "      <td>21.275000</td>\n",
       "      <td>0.184750</td>\n",
       "      <td>0.269423</td>\n",
       "      <td>0.325353</td>\n",
       "      <td>0.004465</td>\n",
       "    </tr>\n",
       "    <tr>\n",
       "      <th>max</th>\n",
       "      <td>400.000000</td>\n",
       "      <td>37.000000</td>\n",
       "      <td>51.000000</td>\n",
       "      <td>0.510000</td>\n",
       "      <td>0.405000</td>\n",
       "      <td>0.510000</td>\n",
       "      <td>0.008269</td>\n",
       "    </tr>\n",
       "  </tbody>\n",
       "</table>\n",
       "</div>"
      ],
      "text/plain": [
       "       per_serving_g  total_fat_g   sugars_g   sodium_g  \\\n",
       "count      88.000000    88.000000  88.000000  88.000000   \n",
       "mean       58.551136    13.182955  12.968182   0.146715   \n",
       "std        52.730830     9.852069  12.142729   0.117531   \n",
       "min        12.000000     0.500000   0.000000   0.000000   \n",
       "25%        25.000000     6.000000   4.000000   0.069500   \n",
       "50%        30.000000     8.000000   7.800000   0.106500   \n",
       "75%       100.000000    23.075000  21.275000   0.184750   \n",
       "max       400.000000    37.000000  51.000000   0.510000   \n",
       "\n",
       "       total_fat_g_per_gram_of_serving  sugars_g_per_gram_of_serving  \\\n",
       "count                        88.000000                     88.000000   \n",
       "mean                          0.235590                      0.230701   \n",
       "std                           0.066612                      0.121566   \n",
       "min                           0.041667                      0.000000   \n",
       "25%                           0.200000                      0.147250   \n",
       "50%                           0.240588                      0.252389   \n",
       "75%                           0.269423                      0.325353   \n",
       "max                           0.405000                      0.510000   \n",
       "\n",
       "       sodium_g_per_gram_of_serving  \n",
       "count                     88.000000  \n",
       "mean                       0.003191  \n",
       "std                        0.001977  \n",
       "min                        0.000000  \n",
       "25%                        0.001862  \n",
       "50%                        0.003225  \n",
       "75%                        0.004465  \n",
       "max                        0.008269  "
      ]
     },
     "execution_count": 4,
     "metadata": {},
     "output_type": "execute_result"
    }
   ],
   "source": [
    "df_final.describe()"
   ]
  },
  {
   "cell_type": "markdown",
   "id": "080dccb4",
   "metadata": {},
   "source": [
    "### Fats"
   ]
  },
  {
   "cell_type": "code",
   "execution_count": 5,
   "id": "07e9ddac",
   "metadata": {},
   "outputs": [
    {
     "data": {
      "image/png": "[encoded data removed]",
      "text/plain": [
       "<Figure size 600x400 with 1 Axes>"
      ]
     },
     "metadata": {},
     "output_type": "display_data"
    }
   ],
   "source": [
    "# Set the figure style and size\n",
    "sns.set(style=\"white\")\n",
    "plt.figure(figsize=(6,4))\n",
    "\n",
    "# Create the histogram\n",
    "sns.histplot(data=df_final,x=\"total_fat_g_per_gram_of_serving\", bins=50)\n",
    "\n",
    "# Add labels and titles\n",
    "plt.xlabel('Total Fat per 1g of serving')\n",
    "plt.ylabel('Count')\n",
    "plt.title(\"Distribution of Total Fat\")\n",
    "\n",
    "# Show the plot\n",
    "plt.show()"
   ]
  },
  {
   "cell_type": "code",
   "execution_count": 6,
   "id": "d6541156",
   "metadata": {
    "scrolled": false
   },
   "outputs": [
    {
     "data": {
      "image/png": "[encoded data removed]",
      "text/plain": [
       "<Figure size 1000x400 with 1 Axes>"
      ]
     },
     "metadata": {},
     "output_type": "display_data"
    }
   ],
   "source": [
    "# Set the figure style and size\n",
    "sns.set(style=\"whitegrid\")\n",
    "plt.figure(figsize=(10, 4))\n",
    "\n",
    "# Plot separate boxplots for each type\n",
    "sns.boxplot(data=df_final, x='total_fat_g_per_gram_of_serving', y='type', orient='h', hue='type')\n",
    "\n",
    "# Set titles and labels of the plot\n",
    "plt.title('Boxplot of Total Fat per 1g of serving')\n",
    "plt.ylabel('Type')\n",
    "plt.xlabel('Total Fat')\n",
    "\n",
    "# Show the plot\n",
    "plt.show()"
   ]
  },
  {
   "cell_type": "code",
   "execution_count": 7,
   "id": "5e611bf4",
   "metadata": {},
   "outputs": [
    {
     "data": {
      "text/html": [
       "<div>\n",
       "<style scoped>\n",
       "    .dataframe tbody tr th:only-of-type {\n",
       "        vertical-align: middle;\n",
       "    }\n",
       "\n",
       "    .dataframe tbody tr th {\n",
       "        vertical-align: top;\n",
       "    }\n",
       "\n",
       "    .dataframe thead th {\n",
       "        text-align: right;\n",
       "    }\n",
       "</style>\n",
       "<table border=\"1\" class=\"dataframe\">\n",
       "  <thead>\n",
       "    <tr style=\"text-align: right;\">\n",
       "      <th></th>\n",
       "      <th>type</th>\n",
       "      <th>product</th>\n",
       "      <th>per_serving_g</th>\n",
       "      <th>total_fat_g</th>\n",
       "      <th>sugars_g</th>\n",
       "      <th>sodium_g</th>\n",
       "      <th>total_fat_g_per_gram_of_serving</th>\n",
       "      <th>sugars_g_per_gram_of_serving</th>\n",
       "      <th>sodium_g_per_gram_of_serving</th>\n",
       "    </tr>\n",
       "  </thead>\n",
       "  <tbody>\n",
       "    <tr>\n",
       "      <th>1</th>\n",
       "      <td>cookie</td>\n",
       "      <td>Beryl's Coconut Sable with Macadamia Nuts</td>\n",
       "      <td>25.0</td>\n",
       "      <td>9.9</td>\n",
       "      <td>5.1</td>\n",
       "      <td>0.000</td>\n",
       "      <td>0.396000</td>\n",
       "      <td>0.204000</td>\n",
       "      <td>0.000000</td>\n",
       "    </tr>\n",
       "    <tr>\n",
       "      <th>3</th>\n",
       "      <td>cookie</td>\n",
       "      <td>Beryl's Strawberry Sable</td>\n",
       "      <td>25.0</td>\n",
       "      <td>9.4</td>\n",
       "      <td>4.8</td>\n",
       "      <td>0.000</td>\n",
       "      <td>0.376000</td>\n",
       "      <td>0.192000</td>\n",
       "      <td>0.000000</td>\n",
       "    </tr>\n",
       "    <tr>\n",
       "      <th>56</th>\n",
       "      <td>cream</td>\n",
       "      <td>Khong Guan Sandwich Biscuits - Orange</td>\n",
       "      <td>31.0</td>\n",
       "      <td>10.0</td>\n",
       "      <td>8.0</td>\n",
       "      <td>0.085</td>\n",
       "      <td>0.322581</td>\n",
       "      <td>0.258065</td>\n",
       "      <td>0.002742</td>\n",
       "    </tr>\n",
       "  </tbody>\n",
       "</table>\n",
       "</div>"
      ],
      "text/plain": [
       "      type                                    product  per_serving_g  \\\n",
       "1   cookie  Beryl's Coconut Sable with Macadamia Nuts           25.0   \n",
       "3   cookie                   Beryl's Strawberry Sable           25.0   \n",
       "56   cream      Khong Guan Sandwich Biscuits - Orange           31.0   \n",
       "\n",
       "    total_fat_g  sugars_g  sodium_g  total_fat_g_per_gram_of_serving  \\\n",
       "1           9.9       5.1     0.000                         0.396000   \n",
       "3           9.4       4.8     0.000                         0.376000   \n",
       "56         10.0       8.0     0.085                         0.322581   \n",
       "\n",
       "    sugars_g_per_gram_of_serving  sodium_g_per_gram_of_serving  \n",
       "1                       0.204000                      0.000000  \n",
       "3                       0.192000                      0.000000  \n",
       "56                      0.258065                      0.002742  "
      ]
     },
     "execution_count": 7,
     "metadata": {},
     "output_type": "execute_result"
    }
   ],
   "source": [
    "# check if values for outliers are correct\n",
    "\n",
    "df_final[(df_final['total_fat_g_per_gram_of_serving'] > 0.30) & ((df_final['type'] == 'cookie') | (df_final['type'] == 'cream'))]"
   ]
  },
  {
   "cell_type": "markdown",
   "id": "fafe5a89",
   "metadata": {},
   "source": [
    "Values are cross checked with the brand's official site or Fairprice website and verified to be correct. Hence, will not be removed for subsequent modelling.\n",
    "- https://www.berylschocolate.com.my/beryl-s-coconut-sable-with-macadamia-nut-95g-pack-of-2\n",
    "- https://www.berylschocolate.com.my/beryl-s-strawberry-sable-95g\n",
    "- https://www.fairprice.com.sg/product/khong-guan-orange-cream-biscuits-200g-278938\n",
    "\n",
    "Based on the median values, chocolate cookie has the lowest fat per 1g of serving, followed by cracker, then wafer, and cream biscuit has the highest fat. This could be due to the cream filling contributing to additional amount of fats on top of the butter that is a common ingredient in biscuit."
   ]
  },
  {
   "cell_type": "markdown",
   "id": "ed5e245b",
   "metadata": {},
   "source": [
    "### Sugar"
   ]
  },
  {
   "cell_type": "code",
   "execution_count": 8,
   "id": "1f8b8488",
   "metadata": {},
   "outputs": [
    {
     "data": {
      "image/png": "[encoded data removed]",
      "text/plain": [
       "<Figure size 600x400 with 1 Axes>"
      ]
     },
     "metadata": {},
     "output_type": "display_data"
    }
   ],
   "source": [
    "# Set the figure style and size\n",
    "sns.set_style(\"white\")\n",
    "plt.figure(figsize=(6,4))\n",
    "\n",
    "# Create the histogram\n",
    "sns.histplot(data=df_final,x=\"sugars_g_per_gram_of_serving\", bins=50)\n",
    "\n",
    "# Add labels and titles\n",
    "plt.xlabel('Sugars per 1g of serving')\n",
    "plt.ylabel('Count')\n",
    "plt.title(\"Distribution of Sugars\")\n",
    "\n",
    "# Show the plot\n",
    "plt.show()"
   ]
  },
  {
   "cell_type": "code",
   "execution_count": 9,
   "id": "a2a5d05d",
   "metadata": {
    "scrolled": false
   },
   "outputs": [
    {
     "data": {
      "image/png": "[encoded data removed]",
      "text/plain": [
       "<Figure size 1000x400 with 1 Axes>"
      ]
     },
     "metadata": {},
     "output_type": "display_data"
    }
   ],
   "source": [
    "# Set the figure style and size\n",
    "sns.set(style=\"whitegrid\")\n",
    "plt.figure(figsize=(10, 4))\n",
    "\n",
    "# Plot separate boxplots for each type\n",
    "sns.boxplot(data=df_final, x='sugars_g_per_gram_of_serving', y='type', orient='h',hue='type')\n",
    "\n",
    "# Set titles and labels of the plot\n",
    "plt.title('Boxplot of Sugars per 1g of serving')\n",
    "plt.ylabel('Type')\n",
    "plt.xlabel('Sugar')\n",
    "\n",
    "# Show the plot\n",
    "plt.show()"
   ]
  },
  {
   "cell_type": "code",
   "execution_count": 10,
   "id": "5e0b1e30",
   "metadata": {
    "scrolled": false
   },
   "outputs": [
    {
     "data": {
      "text/html": [
       "<div>\n",
       "<style scoped>\n",
       "    .dataframe tbody tr th:only-of-type {\n",
       "        vertical-align: middle;\n",
       "    }\n",
       "\n",
       "    .dataframe tbody tr th {\n",
       "        vertical-align: top;\n",
       "    }\n",
       "\n",
       "    .dataframe thead th {\n",
       "        text-align: right;\n",
       "    }\n",
       "</style>\n",
       "<table border=\"1\" class=\"dataframe\">\n",
       "  <thead>\n",
       "    <tr style=\"text-align: right;\">\n",
       "      <th></th>\n",
       "      <th>type</th>\n",
       "      <th>product</th>\n",
       "      <th>per_serving_g</th>\n",
       "      <th>total_fat_g</th>\n",
       "      <th>sugars_g</th>\n",
       "      <th>sodium_g</th>\n",
       "      <th>total_fat_g_per_gram_of_serving</th>\n",
       "      <th>sugars_g_per_gram_of_serving</th>\n",
       "      <th>sodium_g_per_gram_of_serving</th>\n",
       "    </tr>\n",
       "  </thead>\n",
       "  <tbody>\n",
       "    <tr>\n",
       "      <th>8</th>\n",
       "      <td>cookie</td>\n",
       "      <td>Jules Destrooper Biscuits - Belgian Chocolate Thins</td>\n",
       "      <td>100.0</td>\n",
       "      <td>25.0</td>\n",
       "      <td>51.0</td>\n",
       "      <td>0.24</td>\n",
       "      <td>0.25</td>\n",
       "      <td>0.51</td>\n",
       "      <td>0.0024</td>\n",
       "    </tr>\n",
       "  </tbody>\n",
       "</table>\n",
       "</div>"
      ],
      "text/plain": [
       "     type                                              product  per_serving_g  \\\n",
       "8  cookie  Jules Destrooper Biscuits - Belgian Chocolate Thins          100.0   \n",
       "\n",
       "   total_fat_g  sugars_g  sodium_g  total_fat_g_per_gram_of_serving  \\\n",
       "8         25.0      51.0      0.24                             0.25   \n",
       "\n",
       "   sugars_g_per_gram_of_serving  sodium_g_per_gram_of_serving  \n",
       "8                          0.51                        0.0024  "
      ]
     },
     "execution_count": 10,
     "metadata": {},
     "output_type": "execute_result"
    }
   ],
   "source": [
    "# check if values for outliers are correct\n",
    "\n",
    "df_final[df_final['sugars_g_per_gram_of_serving'] > 0.5]"
   ]
  },
  {
   "cell_type": "code",
   "execution_count": 11,
   "id": "22e3a5d8",
   "metadata": {
    "scrolled": true
   },
   "outputs": [
    {
     "data": {
      "text/html": [
       "<div>\n",
       "<style scoped>\n",
       "    .dataframe tbody tr th:only-of-type {\n",
       "        vertical-align: middle;\n",
       "    }\n",
       "\n",
       "    .dataframe tbody tr th {\n",
       "        vertical-align: top;\n",
       "    }\n",
       "\n",
       "    .dataframe thead th {\n",
       "        text-align: right;\n",
       "    }\n",
       "</style>\n",
       "<table border=\"1\" class=\"dataframe\">\n",
       "  <thead>\n",
       "    <tr style=\"text-align: right;\">\n",
       "      <th></th>\n",
       "      <th>type</th>\n",
       "      <th>product</th>\n",
       "      <th>per_serving_g</th>\n",
       "      <th>total_fat_g</th>\n",
       "      <th>sugars_g</th>\n",
       "      <th>sodium_g</th>\n",
       "      <th>total_fat_g_per_gram_of_serving</th>\n",
       "      <th>sugars_g_per_gram_of_serving</th>\n",
       "      <th>sodium_g_per_gram_of_serving</th>\n",
       "    </tr>\n",
       "  </thead>\n",
       "  <tbody>\n",
       "    <tr>\n",
       "      <th>37</th>\n",
       "      <td>cracker</td>\n",
       "      <td>Khong Guan Biscuits - Sultana</td>\n",
       "      <td>30.0</td>\n",
       "      <td>4.0</td>\n",
       "      <td>11.0</td>\n",
       "      <td>0.085</td>\n",
       "      <td>0.133333</td>\n",
       "      <td>0.366667</td>\n",
       "      <td>0.002833</td>\n",
       "    </tr>\n",
       "  </tbody>\n",
       "</table>\n",
       "</div>"
      ],
      "text/plain": [
       "       type                        product  per_serving_g  total_fat_g  \\\n",
       "37  cracker  Khong Guan Biscuits - Sultana           30.0          4.0   \n",
       "\n",
       "    sugars_g  sodium_g  total_fat_g_per_gram_of_serving  \\\n",
       "37      11.0     0.085                         0.133333   \n",
       "\n",
       "    sugars_g_per_gram_of_serving  sodium_g_per_gram_of_serving  \n",
       "37                      0.366667                      0.002833  "
      ]
     },
     "execution_count": 11,
     "metadata": {},
     "output_type": "execute_result"
    }
   ],
   "source": [
    "df_final[(df_final['sugars_g_per_gram_of_serving'] > 0.30) & (df_final['type'] == 'cracker')]"
   ]
  },
  {
   "cell_type": "code",
   "execution_count": 12,
   "id": "c74c4c8e",
   "metadata": {},
   "outputs": [
    {
     "data": {
      "text/html": [
       "<div>\n",
       "<style scoped>\n",
       "    .dataframe tbody tr th:only-of-type {\n",
       "        vertical-align: middle;\n",
       "    }\n",
       "\n",
       "    .dataframe tbody tr th {\n",
       "        vertical-align: top;\n",
       "    }\n",
       "\n",
       "    .dataframe thead th {\n",
       "        text-align: right;\n",
       "    }\n",
       "</style>\n",
       "<table border=\"1\" class=\"dataframe\">\n",
       "  <thead>\n",
       "    <tr style=\"text-align: right;\">\n",
       "      <th></th>\n",
       "      <th>type</th>\n",
       "      <th>product</th>\n",
       "      <th>per_serving_g</th>\n",
       "      <th>total_fat_g</th>\n",
       "      <th>sugars_g</th>\n",
       "      <th>sodium_g</th>\n",
       "      <th>total_fat_g_per_gram_of_serving</th>\n",
       "      <th>sugars_g_per_gram_of_serving</th>\n",
       "      <th>sodium_g_per_gram_of_serving</th>\n",
       "    </tr>\n",
       "  </thead>\n",
       "  <tbody>\n",
       "    <tr>\n",
       "      <th>7</th>\n",
       "      <td>cookie</td>\n",
       "      <td>FUEL10K Double Chocolate High Protein Oat Cookie</td>\n",
       "      <td>100.0</td>\n",
       "      <td>14.9</td>\n",
       "      <td>3.8</td>\n",
       "      <td>0.280</td>\n",
       "      <td>0.149</td>\n",
       "      <td>0.03800</td>\n",
       "      <td>0.002800</td>\n",
       "    </tr>\n",
       "    <tr>\n",
       "      <th>69</th>\n",
       "      <td>wafer</td>\n",
       "      <td>Alor Durian Wafer 21g x 10</td>\n",
       "      <td>100.0</td>\n",
       "      <td>31.1</td>\n",
       "      <td>0.0</td>\n",
       "      <td>0.061</td>\n",
       "      <td>0.311</td>\n",
       "      <td>0.00000</td>\n",
       "      <td>0.000610</td>\n",
       "    </tr>\n",
       "    <tr>\n",
       "      <th>76</th>\n",
       "      <td>wafer</td>\n",
       "      <td>Mincher Peanut Flavor Wafer</td>\n",
       "      <td>400.0</td>\n",
       "      <td>29.2</td>\n",
       "      <td>10.9</td>\n",
       "      <td>0.071</td>\n",
       "      <td>0.073</td>\n",
       "      <td>0.02725</td>\n",
       "      <td>0.000177</td>\n",
       "    </tr>\n",
       "  </tbody>\n",
       "</table>\n",
       "</div>"
      ],
      "text/plain": [
       "      type                                           product  per_serving_g  \\\n",
       "7   cookie  FUEL10K Double Chocolate High Protein Oat Cookie          100.0   \n",
       "69   wafer                        Alor Durian Wafer 21g x 10          100.0   \n",
       "76   wafer                       Mincher Peanut Flavor Wafer          400.0   \n",
       "\n",
       "    total_fat_g  sugars_g  sodium_g  total_fat_g_per_gram_of_serving  \\\n",
       "7          14.9       3.8     0.280                            0.149   \n",
       "69         31.1       0.0     0.061                            0.311   \n",
       "76         29.2      10.9     0.071                            0.073   \n",
       "\n",
       "    sugars_g_per_gram_of_serving  sodium_g_per_gram_of_serving  \n",
       "7                        0.03800                      0.002800  \n",
       "69                       0.00000                      0.000610  \n",
       "76                       0.02725                      0.000177  "
      ]
     },
     "execution_count": 12,
     "metadata": {},
     "output_type": "execute_result"
    }
   ],
   "source": [
    "df_final[(df_final['sugars_g_per_gram_of_serving'] < 0.10) & ((df_final['type'] == 'cookie') | (df_final['type'] == 'wafer'))]"
   ]
  },
  {
   "cell_type": "markdown",
   "id": "a245626c",
   "metadata": {},
   "source": [
    "Values are cross checked with Fairprice website to ensure webscraping is done correctly. Hence, will not be removed for subsequent modelling.\n",
    "\n",
    "https://www.fairprice.com.sg/product/jules-destrooper-biscuits-belgian-chocolate-thins-100g-11093580\n",
    "<br>https://www.fairprice.com.sg/product/khong-guan-biscuits-sultana-260g-11031742\n",
    "<br>https://www.fairprice.com.sg/product/fuel10k-double-chocolate-high-protein-oat-cookie-50-g-90158283\n",
    "<br>https://www.fairprice.com.sg/product/alor-durian-wafer-21g-x-10-210-g-90152342\n",
    "<br>https://www.fairprice.com.sg/product/mincher-peanut-flavor-wafer-400-g-90164289\n",
    "\n",
    "Based on the median values, cracker has the lowest sugar per 1g of serving, followed by cream biscuit, then wafer, and chocolate cookie has the highest sugar. This could be due to the chocolate contributing to additional amount of sugar on top of the sugar that is a common ingredient in biscuit."
   ]
  },
  {
   "cell_type": "markdown",
   "id": "77ffe05f",
   "metadata": {},
   "source": [
    "### Sodium"
   ]
  },
  {
   "cell_type": "code",
   "execution_count": 13,
   "id": "229f4ef5",
   "metadata": {
    "scrolled": false
   },
   "outputs": [
    {
     "data": {
      "image/png": "[encoded data removed]",
      "text/plain": [
       "<Figure size 600x400 with 1 Axes>"
      ]
     },
     "metadata": {},
     "output_type": "display_data"
    }
   ],
   "source": [
    "# Set the figure style and size\n",
    "sns.set_style(\"white\")\n",
    "plt.figure(figsize=(6,4))\n",
    "\n",
    "# Create the histogram\n",
    "sns.histplot(data=df_final,x=\"sodium_g_per_gram_of_serving\", bins=50)\n",
    "\n",
    "# Add labels and titles\n",
    "plt.xlabel('Sodium per 1g of serving')\n",
    "plt.ylabel('Count')\n",
    "plt.title(\"Distribution of Sodium\")\n",
    "\n",
    "# Show the plot\n",
    "plt.show()"
   ]
  },
  {
   "cell_type": "markdown",
   "id": "42a1a34d",
   "metadata": {},
   "source": [
    "Based on the distribution, it seems that there are quite a few product without sodium. "
   ]
  },
  {
   "cell_type": "code",
   "execution_count": 14,
   "id": "888117e3",
   "metadata": {
    "scrolled": true
   },
   "outputs": [
    {
     "data": {
      "text/html": [
       "<div>\n",
       "<style scoped>\n",
       "    .dataframe tbody tr th:only-of-type {\n",
       "        vertical-align: middle;\n",
       "    }\n",
       "\n",
       "    .dataframe tbody tr th {\n",
       "        vertical-align: top;\n",
       "    }\n",
       "\n",
       "    .dataframe thead th {\n",
       "        text-align: right;\n",
       "    }\n",
       "</style>\n",
       "<table border=\"1\" class=\"dataframe\">\n",
       "  <thead>\n",
       "    <tr style=\"text-align: right;\">\n",
       "      <th></th>\n",
       "      <th>type</th>\n",
       "      <th>product</th>\n",
       "      <th>per_serving_g</th>\n",
       "      <th>total_fat_g</th>\n",
       "      <th>sugars_g</th>\n",
       "      <th>sodium_g</th>\n",
       "      <th>total_fat_g_per_gram_of_serving</th>\n",
       "      <th>sugars_g_per_gram_of_serving</th>\n",
       "      <th>sodium_g_per_gram_of_serving</th>\n",
       "    </tr>\n",
       "  </thead>\n",
       "  <tbody>\n",
       "    <tr>\n",
       "      <th>0</th>\n",
       "      <td>cookie</td>\n",
       "      <td>Beryl's Chocolate Orange Cashew Nuts Cookies</td>\n",
       "      <td>25.0</td>\n",
       "      <td>4.6</td>\n",
       "      <td>7.6</td>\n",
       "      <td>0.0</td>\n",
       "      <td>0.184</td>\n",
       "      <td>0.304</td>\n",
       "      <td>0.0</td>\n",
       "    </tr>\n",
       "    <tr>\n",
       "      <th>1</th>\n",
       "      <td>cookie</td>\n",
       "      <td>Beryl's Coconut Sable with Macadamia Nuts</td>\n",
       "      <td>25.0</td>\n",
       "      <td>9.9</td>\n",
       "      <td>5.1</td>\n",
       "      <td>0.0</td>\n",
       "      <td>0.396</td>\n",
       "      <td>0.204</td>\n",
       "      <td>0.0</td>\n",
       "    </tr>\n",
       "    <tr>\n",
       "      <th>2</th>\n",
       "      <td>cookie</td>\n",
       "      <td>Beryl's Cookies Chocolate Sable</td>\n",
       "      <td>25.0</td>\n",
       "      <td>7.2</td>\n",
       "      <td>9.2</td>\n",
       "      <td>0.0</td>\n",
       "      <td>0.288</td>\n",
       "      <td>0.368</td>\n",
       "      <td>0.0</td>\n",
       "    </tr>\n",
       "    <tr>\n",
       "      <th>3</th>\n",
       "      <td>cookie</td>\n",
       "      <td>Beryl's Strawberry Sable</td>\n",
       "      <td>25.0</td>\n",
       "      <td>9.4</td>\n",
       "      <td>4.8</td>\n",
       "      <td>0.0</td>\n",
       "      <td>0.376</td>\n",
       "      <td>0.192</td>\n",
       "      <td>0.0</td>\n",
       "    </tr>\n",
       "    <tr>\n",
       "      <th>4</th>\n",
       "      <td>cookie</td>\n",
       "      <td>Beryl's Cookies Exquisite Selection (Tin)</td>\n",
       "      <td>25.0</td>\n",
       "      <td>4.0</td>\n",
       "      <td>5.0</td>\n",
       "      <td>0.0</td>\n",
       "      <td>0.160</td>\n",
       "      <td>0.200</td>\n",
       "      <td>0.0</td>\n",
       "    </tr>\n",
       "    <tr>\n",
       "      <th>81</th>\n",
       "      <td>wafer</td>\n",
       "      <td>Aladdin Danish Deluxe Waffle Cones</td>\n",
       "      <td>100.0</td>\n",
       "      <td>6.9</td>\n",
       "      <td>28.6</td>\n",
       "      <td>0.0</td>\n",
       "      <td>0.069</td>\n",
       "      <td>0.286</td>\n",
       "      <td>0.0</td>\n",
       "    </tr>\n",
       "  </tbody>\n",
       "</table>\n",
       "</div>"
      ],
      "text/plain": [
       "      type                                       product  per_serving_g  \\\n",
       "0   cookie  Beryl's Chocolate Orange Cashew Nuts Cookies           25.0   \n",
       "1   cookie     Beryl's Coconut Sable with Macadamia Nuts           25.0   \n",
       "2   cookie               Beryl's Cookies Chocolate Sable           25.0   \n",
       "3   cookie                      Beryl's Strawberry Sable           25.0   \n",
       "4   cookie     Beryl's Cookies Exquisite Selection (Tin)           25.0   \n",
       "81   wafer            Aladdin Danish Deluxe Waffle Cones          100.0   \n",
       "\n",
       "    total_fat_g  sugars_g  sodium_g  total_fat_g_per_gram_of_serving  \\\n",
       "0           4.6       7.6       0.0                            0.184   \n",
       "1           9.9       5.1       0.0                            0.396   \n",
       "2           7.2       9.2       0.0                            0.288   \n",
       "3           9.4       4.8       0.0                            0.376   \n",
       "4           4.0       5.0       0.0                            0.160   \n",
       "81          6.9      28.6       0.0                            0.069   \n",
       "\n",
       "    sugars_g_per_gram_of_serving  sodium_g_per_gram_of_serving  \n",
       "0                          0.304                           0.0  \n",
       "1                          0.204                           0.0  \n",
       "2                          0.368                           0.0  \n",
       "3                          0.192                           0.0  \n",
       "4                          0.200                           0.0  \n",
       "81                         0.286                           0.0  "
      ]
     },
     "execution_count": 14,
     "metadata": {},
     "output_type": "execute_result"
    }
   ],
   "source": [
    "df_final[df_final['sodium_g_per_gram_of_serving'] == 0]"
   ]
  },
  {
   "cell_type": "markdown",
   "id": "f996a3a3",
   "metadata": {},
   "source": [
    "Most of the products without sodium are chocolate cookies from Beryl's. Upon cross checking with the official webpage [https://www.berylschocolate.com.my/], there is indeed no sodium reported in the nutrition information. Although salt is one of the ingredient, salt is also not reported in the nutrition information. This could be due to very minimal amount of salt being used. This data will not be removed from the modeling to simulate the actual situation where nutrition information may not be reported. "
   ]
  },
  {
   "cell_type": "code",
   "execution_count": 15,
   "id": "e970cd13",
   "metadata": {
    "scrolled": true
   },
   "outputs": [
    {
     "data": {
      "image/png": "[encoded data removed]",
      "text/plain": [
       "<Figure size 1000x400 with 1 Axes>"
      ]
     },
     "metadata": {},
     "output_type": "display_data"
    }
   ],
   "source": [
    "# Set the figure style and size\n",
    "sns.set(style=\"whitegrid\")\n",
    "plt.figure(figsize=(10, 4))\n",
    "\n",
    "# Plot separate boxplots for each type\n",
    "sns.boxplot(data=df_final, x='sodium_g_per_gram_of_serving', y='type', orient='h', hue='type')\n",
    "\n",
    "# Set titles and labels of the plot\n",
    "plt.title('Boxplot of Sodium per 1g of serving')\n",
    "plt.ylabel('Type')\n",
    "plt.xlabel('Sodium')\n",
    "\n",
    "# Show the plot\n",
    "plt.show()"
   ]
  },
  {
   "cell_type": "code",
   "execution_count": 16,
   "id": "beaf7423",
   "metadata": {
    "scrolled": true
   },
   "outputs": [
    {
     "data": {
      "text/html": [
       "<div>\n",
       "<style scoped>\n",
       "    .dataframe tbody tr th:only-of-type {\n",
       "        vertical-align: middle;\n",
       "    }\n",
       "\n",
       "    .dataframe tbody tr th {\n",
       "        vertical-align: top;\n",
       "    }\n",
       "\n",
       "    .dataframe thead th {\n",
       "        text-align: right;\n",
       "    }\n",
       "</style>\n",
       "<table border=\"1\" class=\"dataframe\">\n",
       "  <thead>\n",
       "    <tr style=\"text-align: right;\">\n",
       "      <th></th>\n",
       "      <th>type</th>\n",
       "      <th>product</th>\n",
       "      <th>per_serving_g</th>\n",
       "      <th>total_fat_g</th>\n",
       "      <th>sugars_g</th>\n",
       "      <th>sodium_g</th>\n",
       "      <th>total_fat_g_per_gram_of_serving</th>\n",
       "      <th>sugars_g_per_gram_of_serving</th>\n",
       "      <th>sodium_g_per_gram_of_serving</th>\n",
       "    </tr>\n",
       "  </thead>\n",
       "  <tbody>\n",
       "    <tr>\n",
       "      <th>79</th>\n",
       "      <td>wafer</td>\n",
       "      <td>Lee Biscuits Carton - 24 Pack Cheese Cream Wafers Cubes</td>\n",
       "      <td>80.0</td>\n",
       "      <td>32.4</td>\n",
       "      <td>12.8</td>\n",
       "      <td>0.314</td>\n",
       "      <td>0.405</td>\n",
       "      <td>0.16</td>\n",
       "      <td>0.003925</td>\n",
       "    </tr>\n",
       "  </tbody>\n",
       "</table>\n",
       "</div>"
      ],
      "text/plain": [
       "     type                                                  product  \\\n",
       "79  wafer  Lee Biscuits Carton - 24 Pack Cheese Cream Wafers Cubes   \n",
       "\n",
       "    per_serving_g  total_fat_g  sugars_g  sodium_g  \\\n",
       "79           80.0         32.4      12.8     0.314   \n",
       "\n",
       "    total_fat_g_per_gram_of_serving  sugars_g_per_gram_of_serving  \\\n",
       "79                            0.405                          0.16   \n",
       "\n",
       "    sodium_g_per_gram_of_serving  \n",
       "79                      0.003925  "
      ]
     },
     "execution_count": 16,
     "metadata": {},
     "output_type": "execute_result"
    }
   ],
   "source": [
    "# check if values for outliers are correct\n",
    "\n",
    "df_final[(df_final['sodium_g_per_gram_of_serving'] > 0.003) & (df_final['type'] == 'wafer')]"
   ]
  },
  {
   "cell_type": "markdown",
   "id": "caadbb89",
   "metadata": {},
   "source": [
    "Values are cross checked with Fairprice website to ensure webscraping is done correctly. Hence, will not be removed for subsequent modelling.\n",
    "\n",
    "https://www.fairprice.com.sg/product/lee-biscuits-carton-24-pack-cheese-cream-wafers-cubes-24-x-80g-90022798\n",
    "\n",
    "Based on the median values, wafer has the lowest sodium per 1g of serving, followed by chocolate cookie, then cream biscuit, and cracker has the highest sodium. Crackers are known to be savory biscuits compared to the other types of biscuit, and this could be explained by the high level of salt present in crackers."
   ]
  },
  {
   "cell_type": "markdown",
   "id": "0842e510",
   "metadata": {},
   "source": [
    "### Overall findings from EDA"
   ]
  },
  {
   "cell_type": "markdown",
   "id": "f285c104",
   "metadata": {},
   "source": [
    "The level of fat, sugar and sodium varies within each biscuit type, as well as among different biscuit type. It will be challenging to inform consumers on whether a biscuit is healthy or not based on just its type. Hence, the project seeks to classify if a biscuit is healthy or not based on the 3 nutrients using a rule based approach. "
   ]
  },
  {
   "cell_type": "markdown",
   "id": "57c58a0c",
   "metadata": {},
   "source": [
    "[Click for modelling](04_modelling.ipynb)"
   ]
  }
 ],
 "metadata": {
  "kernelspec": {
   "display_name": "Python 3 (ipykernel)",
   "language": "python",
   "name": "python3"
  },
  "language_info": {
   "codemirror_mode": {
    "name": "ipython",
    "version": 3
   },
   "file_extension": ".py",
   "mimetype": "text/x-python",
   "name": "python",
   "nbconvert_exporter": "python",
   "pygments_lexer": "ipython3",
   "version": "3.10.9"
  }
 },
 "nbformat": 4,
 "nbformat_minor": 5
}
